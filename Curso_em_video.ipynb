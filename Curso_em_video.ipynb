{
  "cells": [
    {
      "cell_type": "code",
      "execution_count": null,
      "metadata": {
        "id": "ifq3bLV6o0KJ",
        "outputId": "5a206b54-c397-43ac-ae2d-ad891a27676f",
        "colab": {
          "base_uri": "https://localhost:8080/",
          "height": 36
        }
      },
      "outputs": [
        {
          "output_type": "execute_result",
          "data": {
            "text/plain": [
              "'VePh'"
            ],
            "application/vnd.google.colaboratory.intrinsic+json": {
              "type": "string"
            }
          },
          "metadata": {},
          "execution_count": 2
        }
      ],
      "source": [
        "#fatiamento\n",
        "frase = ('Curso em Video Python')\n",
        "frase[9]\n",
        "frase[9:13]\n",
        "frase[9:21:2]\n",
        "frase[:5]\n",
        "frase[15:]\n",
        "frase[9::3]"
      ]
    },
    {
      "cell_type": "code",
      "execution_count": null,
      "metadata": {
        "id": "OukhBOTWo9mc",
        "colab": {
          "base_uri": "https://localhost:8080/"
        },
        "outputId": "83f39f2f-406e-4dda-eccf-0b8b3e45dce8"
      },
      "outputs": [
        {
          "output_type": "execute_result",
          "data": {
            "text/plain": [
              "21"
            ]
          },
          "metadata": {},
          "execution_count": 3
        }
      ],
      "source": [
        "#len\n",
        "frase = ('Curso em Video Python')\n",
        "len(frase)"
      ]
    },
    {
      "cell_type": "code",
      "execution_count": null,
      "metadata": {
        "id": "mZ5EmwDMpACU",
        "colab": {
          "base_uri": "https://localhost:8080/"
        },
        "outputId": "18466953-b5ce-4e0a-cee8-9c67b31d2fe6"
      },
      "outputs": [
        {
          "output_type": "execute_result",
          "data": {
            "text/plain": [
              "3"
            ]
          },
          "metadata": {},
          "execution_count": 4
        }
      ],
      "source": [
        "#count\n",
        "frase = ('Curso em Video Python')\n",
        "frase.count('o')"
      ]
    },
    {
      "cell_type": "code",
      "execution_count": null,
      "metadata": {
        "id": "VDqLWJSJpHOX",
        "colab": {
          "base_uri": "https://localhost:8080/"
        },
        "outputId": "8b784d22-4f6e-41d6-83a8-d7d442a3e1ee"
      },
      "outputs": [
        {
          "output_type": "execute_result",
          "data": {
            "text/plain": [
              "1"
            ]
          },
          "metadata": {},
          "execution_count": 5
        }
      ],
      "source": [
        "#count\n",
        "frase = ('Curso em Video Python')\n",
        "frase.count('o', 0,13)"
      ]
    },
    {
      "cell_type": "code",
      "execution_count": null,
      "metadata": {
        "id": "6htMGPwgpLF-",
        "colab": {
          "base_uri": "https://localhost:8080/"
        },
        "outputId": "fba9be1f-6cd3-4fec-f747-f986c6e346b0"
      },
      "outputs": [
        {
          "output_type": "execute_result",
          "data": {
            "text/plain": [
              "11"
            ]
          },
          "metadata": {},
          "execution_count": 6
        }
      ],
      "source": [
        "#find\n",
        "frase = ('Curso em Video Python')\n",
        "frase.find('deo')"
      ]
    },
    {
      "cell_type": "code",
      "execution_count": null,
      "metadata": {
        "id": "78dP_9UVpNvO",
        "outputId": "0fa1aaab-afcd-4a25-fb56-bae4f0c2a395",
        "colab": {
          "base_uri": "https://localhost:8080/"
        }
      },
      "outputs": [
        {
          "output_type": "execute_result",
          "data": {
            "text/plain": [
              "-1"
            ]
          },
          "metadata": {},
          "execution_count": 7
        }
      ],
      "source": [
        "#find\n",
        "frase = ('Curso em Video Python')\n",
        "frase.find('Android')"
      ]
    },
    {
      "cell_type": "code",
      "execution_count": null,
      "metadata": {
        "id": "Y8KbH5hepQSQ",
        "outputId": "f005a186-3601-444e-81df-c1e0747cf39e",
        "colab": {
          "base_uri": "https://localhost:8080/"
        }
      },
      "outputs": [
        {
          "output_type": "execute_result",
          "data": {
            "text/plain": [
              "True"
            ]
          },
          "metadata": {},
          "execution_count": 8
        }
      ],
      "source": [
        "#in\n",
        "frase = ('Curso em Video Python')\n",
        "'Curso' in frase"
      ]
    },
    {
      "cell_type": "code",
      "execution_count": null,
      "metadata": {
        "id": "Qff6H0VRpQVH",
        "colab": {
          "base_uri": "https://localhost:8080/",
          "height": 35
        },
        "outputId": "a2850439-efee-43ec-98a6-3546d3dc9772"
      },
      "outputs": [
        {
          "output_type": "execute_result",
          "data": {
            "text/plain": [
              "'Curso em Video Android'"
            ],
            "application/vnd.google.colaboratory.intrinsic+json": {
              "type": "string"
            }
          },
          "metadata": {},
          "execution_count": 6
        }
      ],
      "source": [
        "#replace\n",
        "frase = ('Curso em Video Python')\n",
        "frase.replace('Python', 'Android')"
      ]
    },
    {
      "cell_type": "code",
      "execution_count": null,
      "metadata": {
        "id": "wvBuOczHpQX_"
      },
      "outputs": [],
      "source": [
        "#upper\n",
        "frase = ('Curso em Video Python')\n",
        "frase.upper()"
      ]
    },
    {
      "cell_type": "code",
      "execution_count": null,
      "metadata": {
        "id": "mabgx9bTpQam"
      },
      "outputs": [],
      "source": [
        "#lower\n",
        "frase = ('Curso em Video Python')\n",
        "frase.lower()"
      ]
    },
    {
      "cell_type": "code",
      "execution_count": null,
      "metadata": {
        "id": "oribJYeEpQdQ",
        "colab": {
          "base_uri": "https://localhost:8080/",
          "height": 35
        },
        "outputId": "acb225b9-696b-4c73-cf51-460bb08bc33f"
      },
      "outputs": [
        {
          "output_type": "execute_result",
          "data": {
            "text/plain": [
              "'Curso em video python'"
            ],
            "application/vnd.google.colaboratory.intrinsic+json": {
              "type": "string"
            }
          },
          "metadata": {},
          "execution_count": 7
        }
      ],
      "source": [
        "#capitalize\n",
        "frase = ('Curso em Video Python')\n",
        "frase.capitalize()  "
      ]
    },
    {
      "cell_type": "code",
      "execution_count": null,
      "metadata": {
        "id": "nHldTsnrpQfl",
        "colab": {
          "base_uri": "https://localhost:8080/",
          "height": 35
        },
        "outputId": "21223cf2-7744-4031-8706-ac7e5d68edca"
      },
      "outputs": [
        {
          "output_type": "execute_result",
          "data": {
            "text/plain": [
              "'Curso Em Video Python'"
            ],
            "application/vnd.google.colaboratory.intrinsic+json": {
              "type": "string"
            }
          },
          "metadata": {},
          "execution_count": 8
        }
      ],
      "source": [
        "#title\n",
        "frase = ('Curso em Video Python')\n",
        "frase.title()"
      ]
    },
    {
      "cell_type": "code",
      "execution_count": null,
      "metadata": {
        "id": "HapVwipUpQh-",
        "colab": {
          "base_uri": "https://localhost:8080/",
          "height": 35
        },
        "outputId": "eadf8b1f-0708-404c-9baa-582a55a6eb93"
      },
      "outputs": [
        {
          "output_type": "execute_result",
          "data": {
            "text/plain": [
              "'Aprenda Python'"
            ],
            "application/vnd.google.colaboratory.intrinsic+json": {
              "type": "string"
            }
          },
          "metadata": {},
          "execution_count": 9
        }
      ],
      "source": [
        "#strip\n",
        "frase = ('   Aprenda Python  ')\n",
        "frase.strip()"
      ]
    },
    {
      "cell_type": "code",
      "execution_count": null,
      "metadata": {
        "id": "bUflLFXGpn92"
      },
      "outputs": [],
      "source": [
        "#rstrip\n",
        "frase = ('   Aprenda Python  ')\n",
        "frase.rstrip()"
      ]
    },
    {
      "cell_type": "code",
      "execution_count": null,
      "metadata": {
        "id": "1DzAyHaPpoGE"
      },
      "outputs": [],
      "source": [
        "#lstrip\n",
        "frase = ('   Aprenda Python  ')\n",
        "frase.lstrip()"
      ]
    },
    {
      "cell_type": "code",
      "execution_count": null,
      "metadata": {
        "id": "oaZb_sUfpoI4",
        "colab": {
          "base_uri": "https://localhost:8080/"
        },
        "outputId": "9e73e41a-ed00-4830-c0bd-ea86a2d9fdc8"
      },
      "outputs": [
        {
          "output_type": "execute_result",
          "data": {
            "text/plain": [
              "['Curso', 'em', 'Video', 'Python']"
            ]
          },
          "metadata": {},
          "execution_count": 10
        }
      ],
      "source": [
        "#split\n",
        "frase = ('Curso em Video Python')\n",
        "frase.split()"
      ]
    },
    {
      "cell_type": "code",
      "execution_count": null,
      "metadata": {
        "id": "m9oKBz74poLv",
        "colab": {
          "base_uri": "https://localhost:8080/",
          "height": 35
        },
        "outputId": "cea22a07-5c7f-47c2-df6c-8c50725cd19f"
      },
      "outputs": [
        {
          "output_type": "execute_result",
          "data": {
            "text/plain": [
              "'Curso-em-Video-Python'"
            ],
            "application/vnd.google.colaboratory.intrinsic+json": {
              "type": "string"
            }
          },
          "metadata": {},
          "execution_count": 11
        }
      ],
      "source": [
        "#join\n",
        "frase = ('Curso em Video Python')\n",
        "frase = frase.split()\n",
        "'-'.join(frase)"
      ]
    },
    {
      "cell_type": "code",
      "execution_count": null,
      "metadata": {
        "id": "2tEyYuvEnVSd"
      },
      "outputs": [],
      "source": [
        "#for\n",
        "for c in range(0, 6):\n",
        "    print('oi')\n",
        "print('fim')"
      ]
    },
    {
      "cell_type": "code",
      "execution_count": null,
      "metadata": {
        "id": "a2VcTlm_nZY9",
        "colab": {
          "base_uri": "https://localhost:8080/"
        },
        "outputId": "3490d91d-3e31-402b-9070-dd4dd02f4bd8"
      },
      "outputs": [
        {
          "output_type": "stream",
          "name": "stdout",
          "text": [
            "digite um número: 10\n",
            "a raiz de 10 é igula a 3.1622776601683795\n",
            "digite um número: 1000\n",
            "a raiz de 1000 é igula a 31.622776601683793\n"
          ]
        }
      ],
      "source": [
        "#from math import sqrt\n",
        "from math import sqrt\n",
        "num = int(input('digite um número: '))\n",
        "raiz = sqrt(num)\n",
        "print('a raiz de {} é igula a {}'.format(num, raiz))\n",
        "\n",
        "#math\n",
        "import math\n",
        "\n",
        "num = int(input('digite um número: '))\n",
        "raiz = math.sqrt(num)\n",
        "print('a raiz de {} é igula a {}'.format(num, raiz))\n",
        "\n"
      ]
    },
    {
      "cell_type": "code",
      "execution_count": null,
      "metadata": {
        "id": "aEddf7-JndE1",
        "colab": {
          "base_uri": "https://localhost:8080/"
        },
        "outputId": "414903cf-1bca-4d55-eb46-66a6f570e804"
      },
      "outputs": [
        {
          "output_type": "stream",
          "name": "stdout",
          "text": [
            "digite sua media: 7\n",
            "vc foi aprovado! \n"
          ]
        }
      ],
      "source": [
        "#if_elif_else\n",
        "media = int(input('digite sua media: '))\n",
        "if media >= 7:\n",
        "    print('vc foi aprovado! ')\n",
        "elif media <7 and media >=3:\n",
        "    print('vc foi para prova final com media de {}'.format(media))\n",
        "else:\n",
        "    print('ficou reprovado com media {}'.format(media))"
      ]
    },
    {
      "cell_type": "code",
      "execution_count": null,
      "metadata": {
        "id": "uSVAAS3Ung84",
        "colab": {
          "base_uri": "https://localhost:8080/"
        },
        "outputId": "1c1ae618-e995-46e2-bcae-40ec706af42b"
      },
      "outputs": [
        {
          "output_type": "stream",
          "name": "stdout",
          "text": [
            "Digite seu peso: 93\n",
            "Digite sua altura: 1.91\n",
            "Seu peso é 93.00KG e seu IMC é de 24.35 você está  \n",
            "Normal\n"
          ]
        }
      ],
      "source": [
        "#imc\n",
        "peso = float(input('Digite seu peso: '))\n",
        "altura = float(input('Digite sua altura: '))\n",
        "altura2 = altura*altura\n",
        "IMC = peso/altura2\n",
        "   \n",
        "print('Seu peso é {:.2f}KG e seu IMC é de {:.2f} você está  '.format(peso, IMC))\n",
        "\n",
        "if IMC <18.5:\n",
        "    print('Magreza')\n",
        "if IMC >=18.5 and IMC <25:\n",
        "    print('Normal')\n",
        "if IMC >=25 and IMC <30:\n",
        "    print('Sobre peso')\n",
        "if IMC >=30:\n",
        "    print('Obesidade')"
      ]
    },
    {
      "cell_type": "code",
      "execution_count": null,
      "metadata": {
        "id": "2B315OHTmquU",
        "colab": {
          "base_uri": "https://localhost:8080/"
        },
        "outputId": "39536202-b829-4b85-a15a-f3496b5076cb"
      },
      "outputs": [
        {
          "output_type": "stream",
          "name": "stdout",
          "text": [
            "digite seu nomerafael\n",
            "ola mundo muito prazer em te conhecer, \u001b[33mrafael\u001b[m \n"
          ]
        }
      ],
      "source": [
        "#Cores\n",
        "#nome = input('digite seu nome')\n",
        "#print('seu nome é {} {} {}'.format('\\033[4;34m', nome, '\\033[m'))\n",
        "\n",
        "nome = input('digite seu nome')\n",
        "cores = {'limpa':'\\033[m',\n",
        "         'azul':'\\033[34m',\n",
        "         'amarelo':'\\033[33m',\n",
        "         'pretobranco':'\\033[7:30m'}\n",
        "print('ola mundo muito prazer em te conhecer, {}{}{} '.format(cores['amarelo'], nome, cores['limpa']))\n",
        "                          "
      ]
    },
    {
      "cell_type": "code",
      "execution_count": null,
      "metadata": {
        "id": "8xFveGoYm0q9",
        "colab": {
          "base_uri": "https://localhost:8080/"
        },
        "outputId": "15910e91-4b15-41d8-d5ad-2cd96f56d7a6"
      },
      "outputs": [
        {
          "output_type": "stream",
          "name": "stdout",
          "text": [
            "digite um número: 10.5\n",
            "digite outro número: 111.111\n",
            "O valor digitado foi 10.5 e sua porção inteira é 10 \n",
            "O segundo valor digito é 111.111 e sua porção inteira é 111\n"
          ]
        }
      ],
      "source": [
        "#desafio16 tem parte inteira math.trunc\n",
        "import math\n",
        "\n",
        "num = float(input('digite um número: '))\n",
        "num1 = float(input('digite outro número: '))\n",
        "print('O valor digitado foi {} e sua porção inteira é {} '.format(num, math.trunc(num)))\n",
        "print('O segundo valor digito é {} e sua porção inteira é {}'.format(num1,int(num1)))"
      ]
    },
    {
      "cell_type": "code",
      "execution_count": null,
      "metadata": {
        "id": "xWOyDF40ijvR",
        "colab": {
          "base_uri": "https://localhost:8080/"
        },
        "outputId": "2b8353e3-9a43-47f3-f399-eebca9397915"
      },
      "outputs": [
        {
          "output_type": "stream",
          "name": "stdout",
          "text": [
            "comprimento do cateto oposto: 10\n",
            "comprimento do cateto adjacente:14\n",
            "a hipotenusa vai medir 17.20\n"
          ]
        }
      ],
      "source": [
        "#desafio 17 cateto adjacente hipotenusa\n",
        "#Solução 1\n",
        "\n",
        "#co = float(input('comprimento do cateto oposto: '))\n",
        "#ca = float(input('comprimento do cateto adjacente:'))\n",
        "#hi = (co ** 2 + ca **2) ** (1/2)\n",
        "#print('a hipotenusa vai medir {:.2f}'.format(hi))\n",
        "\n",
        "#solução 2 \n",
        "#import math \n",
        "\n",
        "#co = float(input('comprimento do cateto oposto: '))\n",
        "#ca = float(input('comprimento do cateto adjacente:'))\n",
        "#hi = math.hypot(co, ca)\n",
        "#print('a hipotenusa vai medir {:.2f}'.format(hi))\n",
        "\n",
        "#solução 3\n",
        "from math import hypot \n",
        "\n",
        "co = float(input('comprimento do cateto oposto: '))\n",
        "ca = float(input('comprimento do cateto adjacente:'))\n",
        "hi = hypot(co, ca)\n",
        "print('a hipotenusa vai medir {:.2f}'.format(hi))\n"
      ]
    },
    {
      "cell_type": "code",
      "execution_count": null,
      "metadata": {
        "id": "Z7z_RkCPim1f",
        "colab": {
          "base_uri": "https://localhost:8080/"
        },
        "outputId": "6d8225c2-39ac-4be0-bc3a-77c9b6d093e3"
      },
      "outputs": [
        {
          "output_type": "stream",
          "name": "stdout",
          "text": [
            "primeiro aluno: joao\n",
            "segundo aluno: maria\n",
            "terceiro aluno: jose\n",
            "quarto aluno: pesdro\n",
            "O aluno escohlido foi jose\n"
          ]
        }
      ],
      "source": [
        "#desafio 19 sortear uma lista de nomes\n",
        "import random\n",
        "#from random import choice\n",
        "n1 = str(input('primeiro aluno: '))\n",
        "n2 = str(input('segundo aluno: '))\n",
        "n3 = str(input('terceiro aluno: '))\n",
        "n4 = str(input('quarto aluno: '))\n",
        "lista = [n1, n2, n3, n4]\n",
        "escolhido = random.choice(lista)\n",
        "print('O aluno escohlido foi {}'.format(escolhido))"
      ]
    },
    {
      "cell_type": "code",
      "source": [
        "import random \n",
        "n = 0\n",
        "lista = list()\n",
        "while n != 4:\n",
        "  for i in range(0,4):\n",
        "    nome = str(input('Digite seu nome: ')).capitalize()\n",
        "    lista.append(nome)\n",
        "    n +=1\n",
        "\n",
        "listaescolhido = list()\n",
        "\n",
        "escolhido = random.choice(lista)\n",
        "listaescolhido.append(escolhido)\n",
        "\n",
        "print(escolhido)\n",
        "\n",
        "\n"
      ],
      "metadata": {
        "colab": {
          "base_uri": "https://localhost:8080/"
        },
        "id": "3kCLi51afatt",
        "outputId": "459b5314-9c50-432d-b8f7-b5f82c4589ef"
      },
      "execution_count": null,
      "outputs": [
        {
          "output_type": "stream",
          "name": "stdout",
          "text": [
            "Digite seu nome: oie\n",
            "Digite seu nome: ola\n",
            "Digite seu nome: hello\n",
            "Digite seu nome: bye\n",
            "Ola\n"
          ]
        }
      ]
    },
    {
      "cell_type": "code",
      "source": [
        "print(listaescolhido)"
      ],
      "metadata": {
        "colab": {
          "base_uri": "https://localhost:8080/"
        },
        "id": "vdrrKFvpguwv",
        "outputId": "606d5a57-cf04-4daf-bac7-a6971d2aa3aa"
      },
      "execution_count": null,
      "outputs": [
        {
          "output_type": "stream",
          "name": "stdout",
          "text": [
            "['Ola']\n"
          ]
        }
      ]
    },
    {
      "cell_type": "code",
      "execution_count": null,
      "metadata": {
        "id": "XYh1N6Q-inCX",
        "colab": {
          "base_uri": "https://localhost:8080/"
        },
        "outputId": "407c4bb0-7e0c-41e2-963c-fade952f75da"
      },
      "outputs": [
        {
          "output_type": "stream",
          "name": "stdout",
          "text": [
            "primeiro aluno: rafael\n",
            "segundo aluno: duria\n",
            "terceiro aluno: claudia\n",
            "quarto aluno: tiago\n",
            "a ordem de apresentação vai ser ['tiago', 'duria', 'claudia', 'rafael']\n"
          ]
        }
      ],
      "source": [
        "#desafio 20\n",
        "import random\n",
        "#from random import shuffle\n",
        "n1 = str(input('primeiro aluno: '))\n",
        "n2 = str(input('segundo aluno: '))\n",
        "n3 = str(input('terceiro aluno: '))\n",
        "n4 = str(input('quarto aluno: '))\n",
        "lista = [n1, n2, n3, n4]\n",
        "escolhido = random.shuffle(lista)\n",
        "print('a ordem de apresentação vai ser {}'.format(lista))"
      ]
    },
    {
      "cell_type": "code",
      "execution_count": null,
      "metadata": {
        "id": "P-1Agb89inJ3"
      },
      "outputs": [],
      "source": [
        "#desafio 22 letras maiúsculas, minúsculas, contar todas letras ñ considerar espaço, quantas letras tem primeiro nome.\n",
        "# CRIE  UM PROGRAMA QUE LEIA O NOME COMPLETO DE UMA PESSOA E MOSTRE:\n",
        "\n",
        "#O NOME COM TODAS AS LETRAS MAIÚSCULAS\n",
        "#O NOME COM TODAS MINÚSCULAS\n",
        "#QUANTAS LETRAS AO TODO SEM CONSIDERAR ESPAÇOS\n",
        "#QUANTAS LETRAS TEM O PRIMEIRO NOME\n",
        "\n",
        "name = 'Rafael Duria Refundini '\n",
        "\n",
        "nameUpper=name.upper()\n",
        "nameLower=name.lower()\n",
        "nameSplit=name.split()\n",
        "nameSplitJoin=''.join(nameSplit)\n",
        "nameSplitJoinLen=len(nameSplitJoin)\n",
        "nameSplitPrimeiroNome=nameSplit[0]\n",
        "nameSplitPrimeiroNomeLen=len(nameSplitPrimeiroNome)\n",
        "\n",
        "print('Analisando seu nome')\n",
        "print('Seu nome em maiúsculas é {}'.format(nameUpper))\n",
        "print('Seu noome em minuscula é {}'.format(nameLower))\n",
        "print('Seu nome tem ao todo {} letras'.format(nameSplitJoinLen))\n",
        "print('Seu primeiro nome é {} ele tem {} letras '.format(nameSplitPrimeiroNome, nameSplitPrimeiroNomeLen))"
      ]
    },
    {
      "cell_type": "code",
      "execution_count": null,
      "metadata": {
        "id": "TivTIKCNinMf",
        "colab": {
          "base_uri": "https://localhost:8080/"
        },
        "outputId": "2f7de03d-13c1-4738-d09c-a8b0a5575e81"
      },
      "outputs": [
        {
          "output_type": "stream",
          "name": "stdout",
          "text": [
            "Analisando o número 3337\n",
            "unidade:7 \n",
            "dezena:3 \n",
            "centena:3 \n",
            "milhar:3 \n"
          ]
        }
      ],
      "source": [
        "#desafio 023 faça um programa que leia um número de 0 a 9999 e mostre na tela cada um dos digitos separados.\n",
        "\n",
        "import random\n",
        "num = random.randint(0,9999)\n",
        "u = num // 1 % 10\n",
        "d = num // 10 % 10\n",
        "c = num // 100 % 10\n",
        "m = num // 1000 % 10\n",
        "print('Analisando o número {}'.format (num))\n",
        "print('unidade:{} '.format(u))\n",
        "print('dezena:{} '.format(d))\n",
        "print('centena:{} '.format(c))\n",
        "print('milhar:{} '.format(m))\n"
      ]
    },
    {
      "cell_type": "code",
      "execution_count": null,
      "metadata": {
        "id": "YAP0yO8iinPR",
        "colab": {
          "base_uri": "https://localhost:8080/"
        },
        "outputId": "11901494-2bf4-4a69-9695-201d6f737cb8"
      },
      "outputs": [
        {
          "output_type": "stream",
          "name": "stdout",
          "text": [
            "digite cidade que vc nasceu: joinville\n",
            "False\n"
          ]
        }
      ],
      "source": [
        "#desafio 24 primeira palavra começa com 'santo'\n",
        "cidade = str(input('digite cidade que vc nasceu: ')).strip()\n",
        "print(cidade[:5].upper() == 'SANTO')"
      ]
    },
    {
      "cell_type": "code",
      "execution_count": null,
      "metadata": {
        "id": "UTuFT47HinR6",
        "colab": {
          "base_uri": "https://localhost:8080/"
        },
        "outputId": "ccfbbbbb-28a5-42b3-b760-86e6449290f8"
      },
      "outputs": [
        {
          "output_type": "stream",
          "name": "stdout",
          "text": [
            "digite seu nome: RAFAEL\n",
            "seu nome tem silva? False\n"
          ]
        }
      ],
      "source": [
        "#desafio 25 seu nome tem silva\n",
        "name = str(input('digite seu nome: ')).strip()  \n",
        "print('seu nome tem silva? {}'.format('silva' in name.lower()))"
      ]
    },
    {
      "cell_type": "code",
      "execution_count": null,
      "metadata": {
        "id": "jLwVHt75inUS"
      },
      "outputs": [],
      "source": [
        "#desafio 26\n",
        "name = input('Digite uma frase: ').strip().upper()\n",
        "\n",
        "print('A letra A aparece {} vezes na frase'.format(name.count('A')))\n",
        "print('A primeira letra A apareceu na posição {}'.format(name.find('A')))\n",
        "print('a ultima letra a apareceu na posição {}'.format(name.rfind('A')))"
      ]
    },
    {
      "cell_type": "code",
      "execution_count": null,
      "metadata": {
        "id": "IMQ-qFAiinW5"
      },
      "outputs": [],
      "source": [
        "#desafio 27\n",
        "n = str(input('digite seu nome completo: ')).strip().upper()\n",
        "name = n.split()\n",
        "\n",
        "print('Muito prazer em te conhecer!')\n",
        "print('Seu primeiro nome é {}'.format(name[0]))\n",
        "print('Seu último nome é {}'.format(name[len(name)-1]))"
      ]
    },
    {
      "cell_type": "code",
      "execution_count": null,
      "metadata": {
        "id": "T8qStDUEinZq"
      },
      "outputs": [],
      "source": [
        "#desafio 28\n",
        "import random\n",
        "\n",
        "pc = random.randint(0, 5)\n",
        "print('vou pensar em um número entre 0 e 5. tente adivinhar.....')\n",
        "\n",
        "n = int(input('Em que número eu pensei?'))\n",
        "print('PROCESSANDO....')\n",
        "\n",
        "if n == pc:\n",
        "    print('Parabéns! você consegui me vencer!')\n",
        "else:\n",
        "    print('Ganhei de vc! eu pensei no número {} e não no número {}'.format(pc, n))"
      ]
    },
    {
      "cell_type": "code",
      "execution_count": null,
      "metadata": {
        "id": "ybjpeKFZincX",
        "colab": {
          "base_uri": "https://localhost:8080/"
        },
        "outputId": "7bf1de72-6816-484b-9a6f-3fa77b13854b"
      },
      "outputs": [
        {
          "output_type": "stream",
          "name": "stdout",
          "text": [
            "\n",
            "\n",
            "#################################################\n",
            "\n",
            "ATENÇÃO LIMITE DE VELOCIDADE MAXIMA DE 80KM\n",
            "\n",
            "##################################################\n",
            "\n",
            "\n",
            "Digite a velicidade do carro: 250\n",
            "Você foi multado sua multa vai ser no valor de 1190.00\n"
          ]
        }
      ],
      "source": [
        "#desafio 29\n",
        "# escreva um programa que leia a velocidade de um carro.\n",
        "# se ele ultrapassar 80km/h, mostre uma mensagem dizendo que ele foi multado.\n",
        "#A multa vai custar 7$ po cada km acima do mite.\n",
        "print('''\n",
        "\n",
        "#################################################\n",
        "\n",
        "ATENÇÃO LIMITE DE VELOCIDADE MAXIMA DE 80KM\n",
        "\n",
        "##################################################\n",
        "\n",
        "''')\n",
        "VelCarro = float(input('Digite a velicidade do carro: '))\n",
        "velMAXIMA = 80\n",
        "custoKM = 7\n",
        "preçoMulta = VelCarro - velMAXIMA\n",
        "final = preçoMulta * custoKM\n",
        "if VelCarro > 80:\n",
        "    print('Você foi multado sua multa vai ser no valor de {:.2F}'.format(final))\n",
        "else:\n",
        "    print('vc não está acimada velocidade') "
      ]
    },
    {
      "cell_type": "code",
      "execution_count": null,
      "metadata": {
        "id": "SxMK0pPoinfP",
        "colab": {
          "base_uri": "https://localhost:8080/"
        },
        "outputId": "3a00be6b-9fa4-4549-f091-3f8b45360791"
      },
      "outputs": [
        {
          "output_type": "stream",
          "name": "stdout",
          "text": [
            "Digite um número: 10\n",
            "par\n"
          ]
        }
      ],
      "source": [
        "#desafio 30\n",
        "n = int(input('Digite um número: '))\n",
        "n1 = n % 2            \n",
        "if n1 == 1:\n",
        "        print('impar')\n",
        "if n1 == 0:\n",
        "        print('par')"
      ]
    },
    {
      "cell_type": "code",
      "source": [
        "n = input('Digite valor: ')\n",
        "\n",
        "if '.' in n:\n",
        "  \n",
        "\n"
      ],
      "metadata": {
        "colab": {
          "base_uri": "https://localhost:8080/"
        },
        "id": "rce5FdadstLc",
        "outputId": "5c26a751-9238-4924-a890-9f9cfe594480"
      },
      "execution_count": null,
      "outputs": [
        {
          "name": "stdout",
          "output_type": "stream",
          "text": [
            "Digite valor: 10.5\n"
          ]
        }
      ]
    },
    {
      "cell_type": "code",
      "execution_count": null,
      "metadata": {
        "id": "I8nhBgkzinh3",
        "colab": {
          "base_uri": "https://localhost:8080/"
        },
        "outputId": "e36beac4-de46-4afa-c622-6e7266f03a1b"
      },
      "outputs": [
        {
          "output_type": "stream",
          "name": "stdout",
          "text": [
            "Qual será distancia percorrida: 530\n",
            "Custo da sua viagem vai ser de $ 238.50\n",
            "Tenha uma viagem !\n"
          ]
        }
      ],
      "source": [
        "#31\n",
        "#desenvolva um programa que pergunte a distancia de uma viagem em km.\n",
        "#cobrando 0,50$ por km para viagens 200 km\n",
        "#e 0,45$ para viagens mais longas.\n",
        "\n",
        "viagem = float(input('Qual será distancia percorrida: '))\n",
        "curta = 0.50*viagem\n",
        "longa = 0.45*viagem\n",
        "\n",
        "\n",
        "if viagem <= 200:\n",
        "    print('Custo da sua viagem vai ser de $ {:.2f}'.format(curta))\n",
        "if viagem >200:\n",
        "    print('Custo da sua viagem vai ser de $ {:.2f}'.format(longa))\n",
        "print('Tenha uma viagem !')"
      ]
    },
    {
      "cell_type": "code",
      "execution_count": null,
      "metadata": {
        "colab": {
          "base_uri": "https://localhost:8080/"
        },
        "id": "TcxSSJvDinkv",
        "outputId": "1481af13-d4f6-4c9a-d368-4e51ed82abdd"
      },
      "outputs": [
        {
          "name": "stdout",
          "output_type": "stream",
          "text": [
            "Que ano quer analisar? coloque 0 para analisar o ano atual0\n",
            "O ano 2022 NAO é BISSEXTO\n"
          ]
        }
      ],
      "source": [
        "#32\n",
        "#faça um programa que leia um ano qualquer e mostre se ele é BISSEXTO\n",
        "\n",
        "from datetime import date\n",
        "\n",
        "ano = int(input('Que ano quer analisar? coloque 0 para analisar o ano atual'))\n",
        "\n",
        "if ano == 0:\n",
        "    ano = date.today().year\n",
        "    \n",
        "if ano % 4 == 0 and ano % 100 != 0 or ano % 400 == 0:\n",
        "    print('O ano {} é BISSEXTO'.format(ano))\n",
        "    \n",
        "else:\n",
        "    print('O ano {} NAO é BISSEXTO'.format(ano))"
      ]
    },
    {
      "cell_type": "code",
      "execution_count": null,
      "metadata": {
        "id": "BIWANzXlinnS"
      },
      "outputs": [],
      "source": [
        "#33\n",
        "n1 = int(input('digite um valor: '))\n",
        "n2 = int(input('digite um valor: '))\n",
        "n3 = int(input('digite um valor: '))\n",
        "\n",
        "if n1>n2 and n3<n1:\n",
        "    maior = n1     \n",
        "if n2>n1 and n3<n2:\n",
        "    maior = n2    \n",
        "if n3>n1 and n1<n3 and n2 <n3:\n",
        "    maior = n3\n",
        "\n",
        "if n1<n2 and n3>n1:\n",
        "    menor = n1     \n",
        "if n2<n1 and n3>n2:\n",
        "    menor = n2    \n",
        "if n3<n1 and n1>n3 and n2 >n3:\n",
        "    menor = n3\n",
        "    \n",
        "print('maior valor foi {}'.format(maior))\n",
        "print('menor valor foi {}'.format(menor))"
      ]
    },
    {
      "cell_type": "code",
      "execution_count": null,
      "metadata": {
        "id": "-YvL4SGbinp_"
      },
      "outputs": [],
      "source": [
        "#34\n",
        "#escreva um programa que pergunte o salario de um funcionario e calcule o valor do seu aumento.\n",
        "#para salários superiores a 1.250 calcule um aumento de 10%\n",
        "#para os salários inferiores ou iguais o aumento é de 15%\n",
        "\n",
        "\n",
        "salario = float(input('Digite seu salário: '))\n",
        "\n",
        "if salario >1250:\n",
        "    porcetagem = 10\n",
        "    aumento = (salario / 100)*110\n",
        "    print('Seu salário é de {:.2f} $ recebeu um aumento de {} % agora seu salario atualizado é de {:.2f}'.format(salario, porcetagem,aumento))\n",
        "\n",
        "if salario <= 1250:\n",
        "    porcetagem = 15\n",
        "    aumento = (salario / 100)*115\n",
        "    print('Seu salário é de {:.2f} $ recebeu um aumento de {} % agora seu salario atualizado é de {:.2f}'.format(salario, porcetagem,aumento))  \n"
      ]
    },
    {
      "cell_type": "code",
      "execution_count": null,
      "metadata": {
        "id": "Ctc7J0AXinsg"
      },
      "outputs": [],
      "source": [
        "#35\n",
        "print('-='*30)\n",
        "print('Analisador de Triângulo')\n",
        "print('-='*30)\n",
        "\n",
        "r1 = float(input('primeiro segmento')) \n",
        "r2 = float(input('segundo segmento'))\n",
        "r3 = float(input('terceiro segmento'))\n",
        "\n",
        "if r1 < r2 + r3 and r2 < r1 + r3 and r3 < r1 + r2:\n",
        "    print('formou triangulo')\n",
        "else:\n",
        "    print('não forma triangelo')"
      ]
    },
    {
      "cell_type": "code",
      "execution_count": null,
      "metadata": {
        "id": "dYV9TElcinvQ"
      },
      "outputs": [],
      "source": [
        "#desafio 36 empréstimo casa\n",
        "#Escreva um programa para aprovar o empréstimo bancario para a compra de uma casa.\n",
        "#O programa vai perguntar o VALOR DA CASA o SALARIO do comprador e em QUANTOS ANÓS ele vai pagar\n",
        "\n",
        "#Calcule o valor da prestação mensal sabendo que ele não pode exceder 30% do salário  ou então o emprestimo será negado\n",
        "\n",
        "\n",
        "\n",
        "casa = float(input('Digite o valor da casa: '))\n",
        "salario = float(input('Digite o valor do seu salario: '))\n",
        "anos = int(input('Digite em quantos anos você vai pagar: '))*12\n",
        "trintaporcento = (salario / 100)*30\n",
        "montanteMes = casa / anos\n",
        "\n",
        "if montanteMes > trintaporcento:\n",
        "    print('Seu salario total é de {} reais e 30% do seu salario é {} reais  sua prestação por mês ficaria em {:.2f} impossivel de fazer emprestimo'.format(salario, trintaporcento, montanteMes ))\n",
        "else:\n",
        "    print('Seu salario total é de {} reais e 30% do seu salario é {} reais  sua prestação por mês ficara em {:.2f} PARABENS SEU EMPRESTIMO FOI CONCEDIDO'.format(salario, trintaporcento, montanteMes ))\n"
      ]
    },
    {
      "cell_type": "code",
      "execution_count": null,
      "metadata": {
        "id": "fzhVvD7cinyI"
      },
      "outputs": [],
      "source": [
        "#37\n",
        "num = int(input('digite um numero inteiro'))\n",
        "print('''Escolha uma das bases para conversão:\n",
        "[1] converter para Binário \n",
        "[2] converter para octal\n",
        "[3] converter para hexadecimal''')\n",
        "opção = int(input('Sua opção'))\n",
        "if opção == 1:\n",
        "    print('{} convertido para binario é igual a {}.format(num, bin(num))')\n",
        "elif opção == 2:\n",
        "    print('{} convertido para octal é igual a {} '.format(num, oct(num)))\n",
        "elif opção == 3:\n",
        "    print('{}  convertido para hexadecimal é igual a {}'.format(num, hex(num)[2:]))\n",
        "else:\n",
        "    print('opção invalida,. tente novamente.')"
      ]
    },
    {
      "cell_type": "code",
      "execution_count": null,
      "metadata": {
        "id": "cOTf0OA5in0n"
      },
      "outputs": [],
      "source": [
        "#38\n",
        "# escreva um programa que leia DOIS NUMEROS inteiros e compare-os mostrando na tela a mesangem:\n",
        "\n",
        "# O primeiro valor é MAIOR\n",
        "\n",
        "# O segundo valor é MAIOR\n",
        "\n",
        "# Não existe valor maior, OS DOIS SÃO IGUAIS\n",
        "\n",
        "n1 = int(input('Digite um valor'))\n",
        "n2 = int(input('Digite outro valor'))\n",
        "\n",
        "if n1 > n2:\n",
        "    print('N1 é maior')\n",
        "elif n2 > n1:\n",
        "    print('N2 é maior')\n",
        "else:\n",
        "    print('n1 e n2 são iguais')"
      ]
    },
    {
      "cell_type": "code",
      "execution_count": null,
      "metadata": {
        "id": "5BWLYv1din36"
      },
      "outputs": [],
      "source": [
        "#39\n",
        "#Faça programa que leia o ano de nascimento de um jovem e informe de com sua idade\n",
        "\n",
        "#se ele ainda vai se alistar ao serviçi militar\n",
        "\n",
        "#se é a hora de se alistar\n",
        "\n",
        "#se já passou do tempo do alistamento\n",
        "\n",
        "#seu programa também deverá mostrar o tempo que falta ou que passou do prazo\n",
        "\n",
        "from datetime import date\n",
        "\n",
        "\n",
        "ano = int(input('digite ano do seu nascimento: '))\n",
        "atual = date.today().year\n",
        "idade = atual - ano\n",
        "print('seu ano de nascimento é {} nós estamos no ano de {} você tem {} anos'.format(ano, atual, idade, ))\n",
        "\n",
        "if idade >=17 and idade <18:\n",
        "    print('está na hora de se alistar')\n",
        "elif idade >18:\n",
        "    print('passou {} anos do tempo de se alistar vc tem {} anos '.format( (idade-18) , idade))\n",
        "else:\n",
        "    print('vc tem {} anos, ainda é muito jovem falta {}'.format(idade, (17-idade)))"
      ]
    },
    {
      "cell_type": "code",
      "execution_count": null,
      "metadata": {
        "id": "UMmaswH4in6H",
        "colab": {
          "base_uri": "https://localhost:8080/"
        },
        "outputId": "0f89e24e-38b6-4d53-ebff-4319ba3652f3"
      },
      "outputs": [
        {
          "output_type": "stream",
          "name": "stdout",
          "text": [
            "digite sua nota4\n",
            "digitre sua outra nota3\n",
            "seu burro vc tirou uma media de 3.5\n"
          ]
        }
      ],
      "source": [
        "#40\n",
        "#crie um programa que leia duas notas de uma aluno e calcule sua media \n",
        "#mostrando uma mensagem no final de acordo com a média atingida\n",
        "\n",
        "#media abaixo de 5 reprovado\n",
        "#media entre 5  e 6.9 recuperação \n",
        "#media 7.0 ou superior aprovado\n",
        "\n",
        "n1 = int(input('digite sua nota'))\n",
        "\n",
        "n2 = int(input('digitre sua outra nota'))\n",
        "\n",
        "media = (n1+n2)/2\n",
        "\n",
        "if media <5:\n",
        "    print('seu burro vc tirou uma media de {}'.format(media))\n",
        "elif media >5 and media <= 6.9:\n",
        "    print('vc tem uma esperaça sua media é de {}'.format(media))\n",
        "else:\n",
        "    print('parabens seu puxa saco sua media e de {}'.format(media))\n",
        "\n",
        "\n"
      ]
    },
    {
      "cell_type": "code",
      "execution_count": null,
      "metadata": {
        "id": "9KgpOz8qk_Mq"
      },
      "outputs": [],
      "source": [
        "#41\n",
        "##mostre sua categoria de acordo com sua idade\n",
        "#até 9 anos mirim\n",
        "#até 14 anos infantil\n",
        "#até 19 anos junior\n",
        "#até 20 anos sênior\n",
        "#acima master\n",
        "\n",
        "from datetime import date\n",
        "nacimento = int(input('digite seu ano de nascimento: '))\n",
        "\n",
        "atual = date.today().year\n",
        "\n",
        "idade = atual - nacimento\n",
        "\n",
        "if idade <=9:\n",
        "    print('mirim')\n",
        "    \n",
        "elif idade >9 and idade <=14:\n",
        "    print('infantil')\n",
        "    \n",
        "elif idade >14 and idade <=19:\n",
        "    print('junior')\n",
        "    \n",
        "elif idade >19 and idade <=20:\n",
        "    print('sênior')\n",
        "    \n",
        "else:\n",
        "    print('master')"
      ]
    },
    {
      "cell_type": "code",
      "execution_count": null,
      "metadata": {
        "id": "ilGAlriNk_ZB"
      },
      "outputs": [],
      "source": [
        "#42\n",
        "print('-='*30)\n",
        "print('Analisador de Triângulo')\n",
        "print('-='*30)\n",
        "\n",
        "r1 = float(input('primeiro segmento')) \n",
        "r2 = float(input('segundo segmento'))\n",
        "r3 = float(input('terceiro segmento'))\n",
        "\n",
        "if r1 < r2 + r3 and r2 < r1 + r3 and r3 < r1 + r2:\n",
        "    print('os segmentos acima podem formar um triangulo ', end='')\n",
        "    if r1 == r2 == r3:\n",
        "        print('equilatero!')\n",
        "    if r1 != r2 and r2 != r3 != r1:\n",
        "        print('escaleno!')\n",
        "    else:\n",
        "        print('isosceles')\n",
        "else:\n",
        "    print('os segmentos acima não pode forma um triangelo!')"
      ]
    },
    {
      "cell_type": "code",
      "execution_count": null,
      "metadata": {
        "id": "g-4hZSwck_b0"
      },
      "outputs": [],
      "source": [
        "#desafio 43\n",
        "#Desenvolva um logica que leia o peso e altura de uma calcule seu\n",
        "#imc e mostre seu status de acordo com a tabela abaixo:\n",
        "\n",
        "\n",
        "peso = float(input('Digite seu peso: '))\n",
        "altura = float(input('Digite sua altura: '))\n",
        "altura2 = altura*altura\n",
        "IMC = peso/altura2\n",
        "   \n",
        "print('Seu peso é {:.2f}KG e seu IMC é de {:.2f} você está  '.format(peso, IMC))\n",
        "\n",
        "if IMC <18.5:\n",
        "    print('Magreza')\n",
        "if IMC >=18.5 and IMC <25:\n",
        "    print('Normal')\n",
        "if IMC >=25 and IMC <30:\n",
        "    print('Sobre peso')\n",
        "if IMC >=30:\n",
        "    print('Obesidade')"
      ]
    },
    {
      "cell_type": "code",
      "execution_count": null,
      "metadata": {
        "id": "opg9Twexk_eb"
      },
      "outputs": [],
      "source": [
        "#desafio 44\n",
        "#elabore um programa que calcule o valor a ser pago por um produto\n",
        "#considerando o seu PREÇO NORMAL\n",
        "#CONDIÇÃO DE PAGAMENTO\n",
        "\n",
        "preço = float(input('Digite preço do produto: '))\n",
        "print('Você tem essas condições de pagamento!')\n",
        "print('Avista dinheiro/cheque: 10%: digite número 1')\n",
        "print('Avista no cartão: 5%: digite número 2')\n",
        "print('Até 2x no cartão: preço normal: digite número 3')\n",
        "print('até 3x ou cartão: 20% de juros: digite número 4 ')\n",
        "cond = int(input('digite condição de pagamento '))\n",
        "\n",
        "if cond == 1:\n",
        "    print((preço/100)*90)\n",
        "if cond == 2:\n",
        "    print((preço/100)*95)\n",
        "if cond == 3:\n",
        "    print(preço)\n",
        "if cond == 4:\n",
        "    print((preço/100)*120)\n"
      ]
    },
    {
      "cell_type": "code",
      "execution_count": null,
      "metadata": {
        "id": "0OnLWk2yk_g5",
        "colab": {
          "base_uri": "https://localhost:8080/"
        },
        "outputId": "2e37ffdb-61c2-4cf8-f3b4-384c89a4840c"
      },
      "outputs": [
        {
          "output_type": "stream",
          "name": "stdout",
          "text": [
            "Suas opções:\n",
            "[0] PEDRA\n",
            "[1] PAPEL\n",
            "[2] TESOURA\n",
            "\n",
            "Qual é sua jogada? 1\n",
            "JO\n",
            "KEN\n",
            "PO!!!\n",
            "computador jogou papel\n",
            "jogador jogou papel\n",
            "EMPATE!!!!!\n"
          ]
        }
      ],
      "source": [
        "#desafio45\n",
        "import random\n",
        "\n",
        "\n",
        "print('''Suas opções:\n",
        "[0] PEDRA\n",
        "[1] PAPEL\n",
        "[2] TESOURA\n",
        "''')\n",
        "jogada = int(input('Qual é sua jogada? '))\n",
        "pc = random.randint(0,2)\n",
        "\n",
        "print('JO')\n",
        "print('KEN')\n",
        "print('PO!!!')\n",
        "\n",
        "if pc == 0:\n",
        "    print('computador jogou pedra')\n",
        "    \n",
        "elif pc == 1:\n",
        "    print('computador jogou papel')\n",
        "    \n",
        "elif pc == 2:\n",
        "    print('computador jogou tesoura')\n",
        "\n",
        "else:\n",
        "    print('opção errada')\n",
        "\n",
        "\n",
        "\n",
        "if jogada == 0:\n",
        "    print('jogador jogou pedra')\n",
        "    \n",
        "elif jogada == 1:\n",
        "    print('jogador jogou papel')\n",
        "    \n",
        "elif jogada == 2:\n",
        "    print('jogador jogou tesoura')\n",
        "\n",
        "else:\n",
        "    print('opção errada')\n",
        "    \n",
        "if pc == 0 and jogada ==0:\n",
        "    print('EMPATE!!!!!')\n",
        "    \n",
        "if pc == 1 and jogada ==1:\n",
        "    print('EMPATE!!!!!')   \n",
        "\n",
        "if pc == 2 and jogada ==2:\n",
        "    print('EMPATE!!!!!')      \n",
        "    \n",
        "if pc == 0 and jogada ==1:\n",
        "    print('VC VENCEU!!!!!')\n",
        "    \n",
        "if pc == 0 and jogada ==2:\n",
        "    print('COMPUTADOR VENCEU!!!')\n",
        "     \n",
        "if pc == 2 and jogada ==0:\n",
        "    print('VC VENCEU!!!!!')\n",
        "    \n",
        "if pc == 2 and jogada ==1:\n",
        "    print('COMPUTADOR VENCEU!!!')    \n",
        "      \n",
        "if pc == 1 and jogada ==2:\n",
        "    print('VC VENCEU!!!!!')\n",
        "    \n",
        "if pc == 1 and jogada ==0:\n",
        "    print('COMPUTADOR VENCEU!!!')     "
      ]
    },
    {
      "cell_type": "code",
      "execution_count": null,
      "metadata": {
        "id": "c8PLYVkmqy8F"
      },
      "outputs": [],
      "source": [
        "#46\n",
        "#faça um programa que mostre na tela uma contagem regressiva para o estouro de \n",
        "#fogos de artificio indo de 10 até 0, com uma pausa de 1 segundo entre eles.\n",
        "\n",
        "from time import sleep\n",
        "\n",
        "for c in range(10,0,-1):\n",
        "    sleep(1)\n",
        "    print(c)\n",
        "\n",
        "sleep(1)\n",
        "print('FELIZ ANO NOVO!!!!!!!!!!')"
      ]
    },
    {
      "cell_type": "code",
      "execution_count": null,
      "metadata": {
        "id": "DUSzTcDOqzNW"
      },
      "outputs": [],
      "source": [
        "#47\n",
        "#Crie um programa que mostre na tela todos os números que \n",
        "#estão no intervalo entre 1 e 50.\n",
        "\n",
        "for c in range (0, 51,2):\n",
        "    print(c, end=' ')\n",
        "print('acabou')"
      ]
    },
    {
      "cell_type": "code",
      "execution_count": null,
      "metadata": {
        "id": "5eWC48U-qzUr"
      },
      "outputs": [],
      "source": [
        "#48\n",
        "# Faça um programa que calcule a soma entre todos os NUMEROS IMPARES que são MULTIPLOS DE TRES\n",
        "# e que se encontram no intervalo de 1 até 500.\n",
        "\n",
        "\n",
        "import random \n",
        "soma = 0\n",
        "cont = 0\n",
        "for c in range(1,501,2):\n",
        "    if c % 3 == 0:\n",
        "        soma = soma + c\n",
        "        #soma = += c\n",
        "        cont = cont + 1\n",
        "print('A soma de todos os {} valores solicitados é {}'.format(cont, soma))"
      ]
    },
    {
      "cell_type": "code",
      "execution_count": null,
      "metadata": {
        "id": "-UNxxPZeqzat"
      },
      "outputs": [],
      "source": [
        "#49\n",
        "# TABUADA USANDO FOR\n",
        "\n",
        "\n",
        "n = int(input('Digite um número para ver sua tabuada:'))\n",
        "\n",
        "for c in range(1,11):\n",
        "    print('{} X {} = {}'.format(n, c,n*c))"
      ]
    },
    {
      "cell_type": "code",
      "execution_count": null,
      "metadata": {
        "id": "aCyi5jz_rAcw"
      },
      "outputs": [],
      "source": [
        "#50\n",
        "#desenvolva um programa que leia seis números inteiros e mostre a soma apenas dequeles que forem PARES\n",
        "#se o valor digitado for IMPAR, desconsidere-o.\n",
        "\n",
        "\n",
        "import random \n",
        "soma = 0\n",
        "cont = 0\n",
        "for c in range(1,7,):\n",
        "    num = int(input('Digite um valor: ')) \n",
        "    if num % 2 ==0:\n",
        "        soma = soma + num\n",
        "        cont = cont + 1\n",
        "      \n",
        "print('vc informou {} numeros pares ea soma foi {}'.format(cont, soma))"
      ]
    },
    {
      "cell_type": "code",
      "execution_count": null,
      "metadata": {
        "id": "JdQYAOhrk_jZ"
      },
      "outputs": [],
      "source": [
        "#desafio51\n",
        "print('='*30)\n",
        "print('    10 termos de uma PA    ')\n",
        "print('='*30)\n",
        "T = int(input('primeiro termo: '))\n",
        "R = int(input('Razão: '))\n",
        "D = T + (10-1) * R\n",
        "\n",
        "for c in range(T, D+R, R ):\n",
        "    print(c, ' > ',end=' ')\n",
        "print('acabou')\n",
        "    "
      ]
    },
    {
      "cell_type": "code",
      "execution_count": null,
      "metadata": {
        "id": "uM1BsoApk_l6"
      },
      "outputs": [],
      "source": [
        "#desafio52\n",
        "N = int(input('Digite um número: '))\n",
        "\n",
        "cont = 0\n",
        "tot = 0\n",
        "for c in range (1, N + 1):\n",
        "    if N % c == 0:\n",
        "        print('\\033[33m', end=' ')\n",
        "        tot += 1\n",
        "    else:\n",
        "        print('\\033[31m', end=' ')\n",
        "        \n",
        "        \n",
        "    print('{} '.format(c), end=' ')\n",
        "print('O numero {} foi divisivel {} vezes'.format(N, tot))\n",
        "if tot ==2:\n",
        "    print(' é primo')\n",
        "else:\n",
        "    print('não é primo')\n"
      ]
    },
    {
      "cell_type": "code",
      "execution_count": null,
      "metadata": {
        "id": "G72J7y4Nk_oY"
      },
      "outputs": [],
      "source": [
        "#desafio53\n",
        "from time import sleep\n",
        "\n",
        "frase = str(input('Digite uma frase: ')).strip().upper()\n",
        "\n",
        "palavra = frase.split()\n",
        "\n",
        "junto = ''.join(palavra)\n",
        "print(junto)\n",
        "\n",
        "inverso = ''\n",
        "\n",
        "for letra in range(len(junto) -1, -1, -1 ):\n",
        "     inverso += junto[letra]   \n",
        "if inverso == junto:\n",
        "    print('palindromo')\n",
        "else:\n",
        "    print('não é m palindromo')"
      ]
    },
    {
      "cell_type": "code",
      "execution_count": null,
      "metadata": {
        "id": "YLfYp_Nak_rC"
      },
      "outputs": [],
      "source": [
        "#desafio54\n",
        "#crie um programa que leia o ano de nascimento de sete pessoas no \n",
        "#final mostre quantas pessoas ainda não atingeiram a maioridade e\n",
        "#quantas são maiores.\n",
        "from datetime import date\n",
        "\n",
        "atual = date.today().year\n",
        "totmaior = 0\n",
        "totmenor = 0\n",
        "for pess in range(1,8):\n",
        "    nasc = int(input('em que ano a {}° pessoa nasceu? '.format(pess)))\n",
        "    idade = atual - nasc\n",
        "    if idade >= 21:\n",
        "        totmaior += 1\n",
        "    else:\n",
        "        totmenor += 1\n",
        "        \n",
        "print('Ao todo tivemos {} pessoas maiores de idade '.format(totmaior))        \n",
        "print('Ao todo tivemos {} pessoas menores de idade '.format(totmenor))"
      ]
    },
    {
      "cell_type": "code",
      "execution_count": null,
      "metadata": {
        "id": "JBFkIrzNk_tY"
      },
      "outputs": [],
      "source": [
        "#desafio55\n",
        "for p in range(1,5+1):\n",
        "    peso = float(input('peso da {}° pessoa: '.format(p)))\n",
        "    if peso == 1:\n",
        "        maior = p\n",
        "        menor = p\n",
        "    else:\n",
        "        if peso > maior:\n",
        "            maior = peso\n",
        "        if peso < menor:\n",
        "            menor = peso\n",
        "print('maior peso lido foi de {} KG'.format(maior))\n",
        "print('menor peso lido foi de {} KG '.format(menor))"
      ]
    },
    {
      "cell_type": "code",
      "execution_count": null,
      "metadata": {
        "id": "EcreHXmak_vz"
      },
      "outputs": [],
      "source": [
        "#desafio57 \n",
        "# faça um programa\n",
        "#que leia o SEXO de uma pessoa mas só aceite os valoredes M e F\n",
        "#Caso esteja errado, peça a digitação novamente até ter um valor corrreto.\n",
        "\n",
        "#c=1\n",
        "#while c <10+1:\n",
        "#    print(c)\n",
        "#    c=c+1\n",
        "#print('fim')    \n",
        "    \n",
        "#c=1\n",
        "#while c!=0:\n",
        "#    c=int(input('Digite um valor:'))\n",
        "#print('fim')\n",
        "    \n",
        "sexo = str(input('Digite seu sexo [M/F]:')).strip().upper()[0]\n",
        "while sexo not in 'MmFf':\n",
        "    sexo = str(input('Dados inválidos. Por favor, informe seu sexo:')).strip().upper()[0]\n",
        "print('Sexo {} registrado com sucessso'.format(sexo))\n",
        "    \n"
      ]
    },
    {
      "cell_type": "code",
      "execution_count": null,
      "metadata": {
        "id": "NZ1ebXCHk_yM",
        "colab": {
          "base_uri": "https://localhost:8080/"
        },
        "outputId": "367c9e58-ac67-4e39-9cbf-95a122c3fc1c"
      },
      "outputs": [
        {
          "output_type": "stream",
          "name": "stdout",
          "text": [
            "Sou seu computador...\n",
            "Acabei de pensar em um número entre 0 e 10.\n",
            "Será que você consegue adivinhar qual foi?\n",
            "Qual é seu palpite? 10\n",
            "Menos tente mais uma Vez.\n",
            "Qual é seu palpite? 8\n",
            "Menos tente mais uma Vez.\n",
            "Qual é seu palpite? 1\n",
            "Menos tente mais uma Vez.\n",
            "Qual é seu palpite? 0\n",
            "acertou!!  vc tentou 4 vezes\n"
          ]
        }
      ],
      "source": [
        "#desafio58\n",
        "from  time import sleep\n",
        "import random\n",
        "print('Sou seu computador...')\n",
        "sleep(1)\n",
        "print('Acabei de pensar em um número entre 0 e 10.')\n",
        "sleep(1)\n",
        "print('Será que você consegue adivinhar qual foi?') \n",
        "sleep(1)\n",
        "computador = random.randint(0,11)\n",
        "\n",
        "\n",
        "acertou = False\n",
        "palpites = 0\n",
        "while not acertou:\n",
        "    palpite = int(input('Qual é seu palpite? '))\n",
        "    palpites += 1\n",
        "    if palpite == computador:\n",
        "        acertou = True\n",
        "    else:\n",
        "        if palpite < computador:\n",
        "            print('Mais tente mais um vez.')\n",
        "        else:\n",
        "            print('Menos tente mais uma Vez.')\n",
        "    \n",
        "print('acertou!!  vc tentou {} vezes'.format(palpites))"
      ]
    },
    {
      "cell_type": "code",
      "execution_count": null,
      "metadata": {
        "id": "FHc-RjVrk_0Z",
        "colab": {
          "base_uri": "https://localhost:8080/",
          "height": 131
        },
        "outputId": "b1ca0cca-047f-4d9c-c94c-af1440c3704e"
      },
      "outputs": [
        {
          "output_type": "error",
          "ename": "SyntaxError",
          "evalue": "ignored",
          "traceback": [
            "\u001b[0;36m  File \u001b[0;32m\"<ipython-input-1-b9b269d7808c>\"\u001b[0;36m, line \u001b[0;32m23\u001b[0m\n\u001b[0;31m    if += opção = int(input('>>>>>>>Qual é sua opção?: ')) == 'a':\u001b[0m\n\u001b[0m       ^\u001b[0m\n\u001b[0;31mSyntaxError\u001b[0m\u001b[0;31m:\u001b[0m invalid syntax\n"
          ]
        }
      ],
      "source": [
        "#desafio59\n",
        "#Crie um programa que leia dois valores e mostre um menu na tela:\n",
        "#[1] somar\n",
        "#[2] multiplicar\n",
        "#[3] maior\n",
        "#[4] novos números\n",
        "#[5] sair do programa\n",
        "from  time import sleep\n",
        "n = int(input('Digite um valor: '))\n",
        "n1 = int(input('Digite outro valor: '))\n",
        "opção = 0\n",
        "\n",
        "while opção != 5:\n",
        "\n",
        "    sleep(1)\n",
        "    print('''\n",
        "=-=-=-=-=-=-=-=-=-=-=-=-=-=-=-=-=-=-=-=-=-=-=-=-=-=    \n",
        "    [1] somar\n",
        "    [2] multiplicar\n",
        "    [3] maior\n",
        "    [4] novos números\n",
        "    [5] sair do programa\n",
        "    ''')\n",
        "\n",
        "  if += opção = int(input('>>>>>>>Qual é sua opção?: ')) == 'a':\n",
        "      print('erro')\n",
        "  else:      \n",
        "      if opção == 1:\n",
        "          print('Soma de {} mais {} é igual a {}'.format(n,n1,(n+n1)))       \n",
        "      if opção == 2:\n",
        "          print('Multiplicão de {} por {} é igual a {} '.format(n,n1,(n*n1)))       \n",
        "      if opção == 3:\n",
        "          if n >n1:\n",
        "              print('Número {} é maior que o número {}'.format(n,n1))         \n",
        "          else:\n",
        "              print('Número {} é maior que o número {}'.format(n1,n))            \n",
        "      if opção == 4:\n",
        "          n = int(input('Digite um valor: '))\n",
        "          n1 = int(input('Digite outro valor: '))\n",
        "        \n",
        "print('fim do programa')\n"
      ]
    },
    {
      "cell_type": "code",
      "execution_count": null,
      "metadata": {
        "id": "mBzUmQVTk_29"
      },
      "outputs": [],
      "source": [
        "#60\n",
        "#Faça um programa que leia um número qualquer e mostre o seu Fatorial\n",
        "\n",
        "n = int(input('''Digite um número para calcular seu fatorial: '''))\n",
        "c = n\n",
        "f = 1\n",
        "print('Calculando {}! = '.format(n), end='')\n",
        "while c > 0:\n",
        "    print('{}'.format(c), end='')\n",
        "    print('x' if c > 1 else '=', end='' )\n",
        "    f*= c\n",
        "    c-= 1\n",
        "print('{}'.format(f))\n",
        "    \n"
      ]
    },
    {
      "cell_type": "code",
      "execution_count": null,
      "metadata": {
        "id": "JtdsRchKk_5a"
      },
      "outputs": [],
      "source": [
        "#61\n",
        "print('Gerador de PA')\n",
        "print('-=' *10 )\n",
        "primeiro = int(input('Primeiro termo: '))\n",
        "razão = int(input('Razão da PA: '))\n",
        "termo = primeiro\n",
        "cont = 1\n",
        "while cont <= 10:\n",
        "    print('{} >'.format(termo), end ='')\n",
        "    termo += razão\n",
        "    cont += 1\n",
        "print('FIM')"
      ]
    },
    {
      "cell_type": "code",
      "execution_count": null,
      "metadata": {
        "id": "EyNSx7dKk_7y"
      },
      "outputs": [],
      "source": [
        "#62\n",
        "print('Gerador de PA')\n",
        "print('-=' *10 )\n",
        "primeiro = int(input('Primeiro termo: '))\n",
        "razão = int(input('Razão da PA: '))\n",
        "termo = primeiro\n",
        "cont = 1\n",
        "total = 0\n",
        "mais = 10\n",
        "\n",
        "while mais != 0:\n",
        "    total = total + mais\n",
        "    while cont <= total:\n",
        "        print('{} >'.format(termo), end ='')\n",
        "        termo += razão\n",
        "        cont += 1\n",
        "    print('PAUSA')\n",
        "    mais = int(input('Quantos termos você quer mostrar a mais ?'))\n",
        "print('progressão finalizada com {} termos mostrados.'.format(total))"
      ]
    },
    {
      "cell_type": "code",
      "execution_count": null,
      "metadata": {
        "id": "xCxjpxpdmR5k"
      },
      "outputs": [],
      "source": [
        "#63\n",
        "print('-'*30)\n",
        "print('Sequencia de fibonacci')\n",
        "print('-'*30)\n",
        "n= int(input('Quantos termos você quer mostrar :'))\n",
        "t1 = 0\n",
        "t2 = 1\n",
        "print('~'*30)\n",
        "print(' {} > {}'.format(t1, t2), end='')\n",
        "cont = 3\n",
        "while cont <= n:\n",
        "    t3 = t1 + t2\n",
        "    print(' > {}'.format(t3), end='')\n",
        "    t1 = t2\n",
        "    t2 = t3\n",
        "    cont += 1\n",
        "print(' > FIM')\n",
        "print('~'*30)"
      ]
    },
    {
      "cell_type": "code",
      "execution_count": null,
      "metadata": {
        "id": "XHch5jvlmSMD"
      },
      "outputs": [],
      "source": [
        "#64\n",
        "num = cont = soma = 0\n",
        "num = int(input('Digite um numero [ 999 para parar]: '))\n",
        "while num != 999:\n",
        "    soma += num\n",
        "    cont += 1\n",
        "    num = int(input('Digite um numero [ 999 para parar]: '))\n",
        "print('VC digitou {} numeros e a soma entre eles foi {}'.format(cont, soma))"
      ]
    },
    {
      "cell_type": "code",
      "execution_count": null,
      "metadata": {
        "id": "aievdWbFmSE7"
      },
      "outputs": [],
      "source": [
        "#65\n",
        "resp = 'S'\n",
        "soma = quant = media = maior = menor = 0\n",
        "while resp in 'Ss':\n",
        "    num = int(input('digite um numero: '))\n",
        "    soma += num\n",
        "    quant += 1\n",
        "    if quant == 1:\n",
        "        maior = menor = num\n",
        "    else:\n",
        "        if num > maior:\n",
        "            maior = num\n",
        "        if num < menor:\n",
        "            menor = num\n",
        "    resp = str(input('Quer continuar? [S/N]')).upper().strip()[0]\n",
        "media = soma / quant\n",
        "print('VC digitou {} numeros e a media foi {}'.format(quant, media))\n",
        "print('o maior valor foi {} e o menor foi {}'.format(maior, menor))"
      ]
    },
    {
      "cell_type": "code",
      "execution_count": null,
      "metadata": {
        "id": "Ux8p-eRdfP1d"
      },
      "outputs": [],
      "source": [
        "# desafio 66\n",
        "s = cont = 0\n",
        "while True:\n",
        "  n = int(input('Digite um valor o valor 999 para  parar: '))\n",
        "  if n == 999:\n",
        "    break\n",
        "  cont += 1\n",
        "  s += n\n",
        "    \n",
        "print('soma de dos valores é igual a {} contador {}'.format(s,cont))\n"
      ]
    },
    {
      "cell_type": "code",
      "execution_count": null,
      "metadata": {
        "id": "TYmv7UZOlNpZ"
      },
      "outputs": [],
      "source": [
        "#desafio 67\n",
        "\n",
        "while True:\n",
        "  n = int(input('Digite um valor: '))\n",
        "  print('#-#-#-#-#'*10)\n",
        "  if n <0:\n",
        "    break\n",
        "  for c in range(1,11):\n",
        "    print('{} x {} = {}'.format(n,c,(n*c)))\n",
        "  print('#-#-#-#-#'*10)\n",
        "print('stop')\n",
        "\n"
      ]
    },
    {
      "cell_type": "code",
      "execution_count": null,
      "metadata": {
        "id": "ikwshFu4kM5H",
        "colab": {
          "base_uri": "https://localhost:8080/"
        },
        "outputId": "cce2ced3-1fb8-4e97-884a-6131cb8a75e5"
      },
      "outputs": [
        {
          "name": "stdout",
          "output_type": "stream",
          "text": [
            "Digite um valor:  50\n",
            "Par ou impar?par\n",
            "Par ou impar?impar\n",
            "Par ou impar?Par\n",
            "Par ou impar?P\n"
          ]
        }
      ],
      "source": [
        "#desafio 68\n",
        "#faça programa quejogue par ou impar com o computador \n",
        "# o jogo só será interrompido quando o jogador perder,\n",
        "#mostrando o total de vitorias consecutivas que ele consquistou no final do jogo\n",
        "\n",
        "import random\n",
        "\n",
        "while True:\n",
        "  jogador = int(input('Digite um valor: '))\n",
        "  pc = random.randint(0,10)\n",
        "  total = pc + jogador\n",
        "  tipo = ' '\n",
        "\n",
        "  while tipo not in 'P':\n",
        "    tipo = str(input('Par ou impar?'))\n",
        "\n",
        "   \n",
        "\n",
        "\n"
      ]
    },
    {
      "cell_type": "code",
      "execution_count": null,
      "metadata": {
        "id": "tRzO2ewErDeg"
      },
      "outputs": [],
      "source": [
        "#desafio 69\n",
        "#Crie um programa que leia a idade eo sexo de varias pessoas A cada pessoa cadastrada o programa \n",
        "#devera perguntar se o usuario quer ou não  continuar no final mostre:\n",
        "continuar = 0\n",
        "cont1 = 0\n",
        "cont2 = 0\n",
        "cont3 = 0\n",
        "while continuar is not 'N':\n",
        "  idade = int(input('Idade: '))\n",
        "  sexo = str(input('Sexo: [M/F] ')).strip().upper()[0]\n",
        "  continuar = str(input('Quer continuar: [S/N] ')).strip().upper()[0]\n",
        "  if idade >= 18:\n",
        "    cont1 += 1\n",
        "  if idade <20 and sexo == 'F':\n",
        "    cont2 += 1\n",
        "  if sexo == 'M':\n",
        "    cont3 +=1\n",
        "\n",
        "\n",
        "print('Total de pessoas com mais de 18 anos: {}'.format(cont1))\n",
        "print('Ao todo temos {} homens cadastrados'.format(cont3))\n",
        "print('E temos {} mulheres com menos de 20 anos'.format(cont2))\n"
      ]
    },
    {
      "cell_type": "code",
      "execution_count": null,
      "metadata": {
        "id": "oraax0F2z0YJ"
      },
      "outputs": [],
      "source": [
        "#desafio 70\n",
        "#Crie um programa que leia o nome e o preço de varios produtos.\n",
        "#o Programa devera perguntar se o usuario vai continuar\n",
        "#No final mostre:\n",
        "#a) qual éo  total gasto na compra.\n",
        "#b)quantos produtos custam mais de 1000$\n",
        "#c)qual éo nome do produto mais barato.\n",
        "stop = ''\n",
        "while stop != 'N':\n",
        "  produto = str(input('Nome do produto: '))\n",
        "  preço = float(input('preço: '))\n",
        "  stop = str(input('Quer continuar [S/N]')).upper()\n",
        "print('fim')\n",
        "\n",
        "\n",
        "\n"
      ]
    },
    {
      "cell_type": "code",
      "execution_count": null,
      "metadata": {
        "id": "QhBf4riOQE-N"
      },
      "outputs": [],
      "source": [
        "#desafio 71\n",
        "valor = int(input('Qual valor quer sacar? R$'))\n",
        "ValorTotal = valor\n",
        "ced = 50\n",
        "ContCed = 0\n",
        "while True:\n",
        "    if ValorTotal >= ced:\n",
        "        ValorTotal -= ced\n",
        "        ContCed += 1\n",
        "    else:\n",
        "        if ContCed > 0: \n",
        "            print('Total de  {} cedulas de {}'.format(ContCed,ced))\n",
        "        if ced == 50:\n",
        "            ced = 20\n",
        "        elif ced == 20:\n",
        "            ced = 10\n",
        "        elif ced == 10:\n",
        "            ced = 1\n",
        "        ContCed = 0\n",
        "        if ValorTotal == 0:\n",
        "            break\n",
        "\n",
        "print('bye bye')\n",
        "\n"
      ]
    },
    {
      "cell_type": "code",
      "execution_count": null,
      "metadata": {
        "id": "nM19sJn-L4tC"
      },
      "outputs": [],
      "source": [
        "\n",
        "n = ('hamburguer ', 'suco', 'pizza', 'pudim')\n",
        "print(n[-1])\n",
        "print(n[-2])\n",
        "print(n[-3])\n",
        "print(n[-4])\n",
        "print('=-'*30)\n",
        "print(n[0])\n",
        "print(n[1])\n",
        "print(n[2])\n",
        "print(n[3])\n",
        "print('=-'*30)"
      ]
    },
    {
      "cell_type": "code",
      "execution_count": null,
      "metadata": {
        "id": "-Ee8Z63D9XCo"
      },
      "outputs": [],
      "source": [
        "lanche = ('hamburguer ', 'suco', 'pizza', 'pudim')\n",
        "for comida in lanche:\n",
        "  print('{}'.format(comida))"
      ]
    },
    {
      "cell_type": "code",
      "execution_count": null,
      "metadata": {
        "id": "Ukrfg6P2tiPz"
      },
      "outputs": [],
      "source": [
        "lanche = ('hamburguer ', 'suco', 'pizza', 'pudim')\n",
        "for cont in range(0, len(lanche)):\n",
        "  print(lanche[cont])"
      ]
    },
    {
      "cell_type": "code",
      "execution_count": null,
      "metadata": {
        "id": "ef0touOCuR-2"
      },
      "outputs": [],
      "source": [
        "lanche = ('hamburguer ', 'suco', 'pizza', 'pudim')\n",
        "for pos, comida in enumerate(lanche):\n",
        "  print('{} {}'.format(comida,pos))"
      ]
    },
    {
      "cell_type": "code",
      "execution_count": null,
      "metadata": {
        "id": "0QiQS_Thh4r1"
      },
      "outputs": [],
      "source": [
        "# desafio 72\n",
        "\n",
        "descrito = ('zero', 'um', 'dois', 'três', 'quatro', 'cinco', 'seis', 'sete', 'oito', 'nove', 'dez' )\n",
        "\n",
        "n = int(input('Digite um número: '))\n",
        "while n <0  or n >20:\n",
        "    n = int(input('Digite um número entre 0 e 20: '))\n",
        "print('Número que você digitou foi {}'.format(descrito[n]))\n",
        "\n"
      ]
    },
    {
      "cell_type": "code",
      "execution_count": null,
      "metadata": {
        "colab": {
          "base_uri": "https://localhost:8080/"
        },
        "id": "3Cm-hIseSOLm",
        "outputId": "3957bfe5-9423-4528-c6c5-9d25f0eb177c"
      },
      "outputs": [
        {
          "name": "stdout",
          "output_type": "stream",
          "text": [
            "----------------------------------------\n",
            "('Atlético-MG', 'Flamengo', 'Palmeiras', 'Corinthians', 'Bragantino')\n",
            "----------------------------------------\n",
            "('Juventude', 'Grêmio', 'jacutinga', 'ivaiporã')\n",
            "----------------------------------------\n",
            "['América-MG', 'Athletico-PR', 'Atlético-GO', 'Atlético-MG', 'Bahia', 'Bragantino', 'Ceará', 'Corinthians', 'Cuiabá', 'Flamengo', 'Fluminense', 'Fortaleza', 'Grêmio', 'Internacional', 'Juventude', 'Palmeiras', 'Santos', 'São Paulo', 'ivaiporã', 'jacutinga']\n",
            "----------------------------------------\n",
            "Palmeiras está na 2 posição\n",
            "----------------------------------------\n"
          ]
        }
      ],
      "source": [
        "# desafio 73\n",
        "\n",
        "\n",
        "\n",
        "times = ('Atlético-MG','Flamengo','Palmeiras','Corinthians','Bragantino','Fortaleza','Fluminense','Ceará','Internacional','América-MG','Santos','São Paulo','Cuiabá','Athletico-PR','Atlético-GO','Bahia','Juventude','Grêmio', 'jacutinga', 'ivaiporã')\n",
        "print('-'*40)\n",
        "print(times[0:5])\n",
        "print('-'*40)\n",
        "print(times[-4:])\n",
        "print('-'*40)\n",
        "print(sorted(times))\n",
        "print('-'*40)\n",
        "print('Palmeiras está na {} posição'.format(times.index('Palmeiras')))\n",
        "print('-'*40)\n"
      ]
    },
    {
      "cell_type": "code",
      "execution_count": null,
      "metadata": {
        "id": "3VhLphkqjEkV"
      },
      "outputs": [],
      "source": [
        "# desafio 74\n",
        "\n",
        "\n",
        "from random import randint\n",
        "\n",
        "pc = (randint(0,10),randint(11,20),randint(21,30),randint(31,40))\n",
        "print(pc)\n",
        "print(max(pc))\n",
        "print(min(pc))\n",
        "\n",
        "\n"
      ]
    },
    {
      "cell_type": "code",
      "execution_count": null,
      "metadata": {
        "id": "HMY3ZnBBZbd4"
      },
      "outputs": [],
      "source": [
        "# desafio 75\n",
        "\n",
        "n = (int(input('Digite um valor: ')),\n",
        "     int(input('Digite um valor: ')),\n",
        "     int(input('Digite um valor: ')),\n",
        "     int(input('Digite um valor: ')))\n",
        "print('{}'.format(n))\n",
        "print(n.count(2))\n",
        "\n",
        "print(n.index(4))\n",
        "print('os valores pares digitados foram')\n",
        "\n",
        "for valor in n:\n",
        "  if  valor %  2 ==0:\n",
        "    print(valor, end=' ')   \n",
        "    \n",
        "  "
      ]
    },
    {
      "cell_type": "code",
      "execution_count": null,
      "metadata": {
        "id": "jJCcEv6FerCI"
      },
      "outputs": [],
      "source": [
        "#desafio 76\n",
        "\n",
        "listagem = ('lapis', 1.75,\n",
        "            'boraracha', 2,\n",
        "              'caderno', 15.90,\n",
        "              'estojo',25,\n",
        "              'transferidor',9.89,\n",
        "              'campasso',9.99,\n",
        "              'mochila',120.32,\n",
        "              'canetas',22.30,\n",
        "              'livro',34.90)\n",
        "print('-'*40)\n",
        "print('LISTAGEM DE PREÇOS')\n",
        "print('-'*40)\n",
        "for pos in range(0, len(listagem)):\n",
        "  if pos % 2 == 0:\n",
        "    print('{:.<30}'.format(listagem[pos]), end='')\n",
        "  else:\n",
        "    print('{:>7.2f}'.format(listagem[pos]))\n",
        "print('-'*40)\n",
        "\n"
      ]
    },
    {
      "cell_type": "code",
      "execution_count": null,
      "metadata": {
        "id": "pCjQK_rPmb48"
      },
      "outputs": [],
      "source": [
        "#desafio 77\n",
        "\n",
        "palavras = ('APRENDER', 'PROGRAMAR', 'LINGUAGEM', 'PYTHON', 'CURSO', 'GRATIS', 'ESTUDAR', 'PRATICAR', 'TRABALHAR', 'MERCADO', 'PROGRAMADOR', 'FUTURO')\n",
        "\n",
        "for p in palavras:\n",
        "  print('\\n Na palavra {} temos '.format(p))\n",
        "  for letra in p:\n",
        "    if letra.lower() in 'aeiou':\n",
        "      print(letra)\n"
      ]
    },
    {
      "cell_type": "code",
      "execution_count": null,
      "metadata": {
        "id": "LB9ypuFwqEh5"
      },
      "outputs": [],
      "source": [
        "#desafio 78\n",
        "lista = []\n",
        "for posição in range(0,5):\n",
        "  lista.append(int(input('Digite um valor para a posição {}: '.format(posição))))\n",
        "print(lista)\n",
        "print('Maior valor é {} é sua posição na lista é {}'.format(max(lista),lista.index(max(lista))))\n",
        "print('menor valor é {} é sua posição na lista é {}'.format(min(lista),lista.index(min(lista))))"
      ]
    },
    {
      "cell_type": "code",
      "execution_count": null,
      "metadata": {
        "id": "sbIInl-CwyTu"
      },
      "outputs": [],
      "source": [
        "#desafio 79\n",
        "\n",
        "lista  = []\n",
        "while True:\n",
        "  n = (int(input('Digite um valor: ')))\n",
        "  if n not in lista:\n",
        "    lista.append(n)\n",
        "    print('Valor adicionado com sucesso...')\n",
        "  else:\n",
        "    print('Valor duplicado não vou adicionar...')\n",
        "  S = input('Deseja continuar [S/N] ').upper()\n",
        "\n",
        "  while S not in 'SsNn':\n",
        "    print('Você digitou um número, é preciso digitar S ou N: ')\n",
        "    S = input('Deseja continuar [S/N] ').upper()\n",
        "\n",
        "  if S =='N':\n",
        "    break\n",
        "lista.sort()                \n",
        "print(lista)\n",
        "\n",
        "# cont = 1\n",
        "# for n in lista:\n",
        "#   print('{}° Valor {}'.format(cont,n))\n",
        "#   cont += 1\n",
        "\n",
        "for cont, valor in enumerate(lista):\n",
        "  print(f'{cont+1}º Valor: {valor}')\n"
      ]
    },
    {
      "cell_type": "code",
      "execution_count": null,
      "metadata": {
        "colab": {
          "base_uri": "https://localhost:8080/"
        },
        "id": "Iz4epHSqiMMK",
        "outputId": "5bb8574d-d518-4bd6-8696-13418db189f7"
      },
      "outputs": [
        {
          "name": "stdout",
          "output_type": "stream",
          "text": [
            "Digite um valor: 10\n",
            "Digite um valor: 20\n",
            "Digite um valor: 30\n",
            "Digite um valor: 9999\n",
            "Digite um valor: 1\n",
            "[1, 10, 20, 30, 9999]\n"
          ]
        }
      ],
      "source": [
        "#desafio 80 \n",
        "lista = []\n",
        "for c in range(0,5):\n",
        "  n = int(input('Digite um valor: '))\n",
        "  if c == 0 or n > lista[-1]:\n",
        "    lista.append(n)\n",
        "  else:\n",
        "    pos = 0\n",
        "    while pos < len(lista):\n",
        "      if n <= lista[pos]:\n",
        "        lista.insert(pos, n)\n",
        "        break\n",
        "      pos += 1\n",
        "print(lista)\n",
        "\n",
        "\n"
      ]
    },
    {
      "cell_type": "code",
      "execution_count": null,
      "metadata": {
        "id": "eep1XWxSLc2E"
      },
      "outputs": [],
      "source": [
        "# desafio 81\n",
        "lista = []\n",
        "while True:\n",
        "  lista.append(int(input('Digite um valor: ')))\n",
        "  S = input('Você que continuar [S/N] ').upper()\n",
        "  while S not in 'SN':\n",
        "    print('você digitou a letra {} você tem que digitar [S/N]'.format(S))\n",
        "    S = input('Você que continuar [S/N] ').upper()\n",
        "  if S == 'N':\n",
        "    break\n",
        "lista.sort(reverse=True)\n",
        "print('vc digitou {} elementos'.format(len(lista)))\n",
        "print('Os valores em ordem descrente são {}'.format(lista))\n",
        "\n",
        "if 5 in lista:\n",
        "  print('O valor 5 foi encontrado na lista')\n",
        "else:\n",
        "  print('O valor 5 não foi encontrado na lista')\n",
        "\n"
      ]
    },
    {
      "cell_type": "code",
      "execution_count": null,
      "metadata": {
        "id": "XgGz_u9Cgy0J"
      },
      "outputs": [],
      "source": [
        "#desafio 82\n",
        "\n",
        "lista = []\n",
        "listapares = []\n",
        "listaimpares = []\n",
        "n = ''\n",
        "while True:\n",
        "  n = int(input('Digite um valor: '))\n",
        "  if n % 2 == 0:\n",
        "    listapares.append(n)\n",
        "  else:\n",
        "    listaimpares.append(n)\n",
        "  if True:\n",
        "    S = input('Que continuar [S/N]').upper()\n",
        "    if S != 'S':\n",
        "      break\n",
        "print('A lista completa é ',listapares+listaimpares)      \n",
        "print('A lista de impares é ',listaimpares)\n",
        "print('A lista de pares é ',listapares)\n",
        "\n"
      ]
    },
    {
      "cell_type": "code",
      "execution_count": null,
      "metadata": {
        "id": "gT3Ng9O039Zz"
      },
      "outputs": [],
      "source": [
        "# desafio 83\n",
        "\n",
        "expr = str(input('Digite a expressão: '))\n",
        "pilha = []\n",
        "for simb in expr:\n",
        "  if simb == '(':\n",
        "    pilha.append('(')\n",
        "  elif simb == ')':\n",
        "    if len(pilha) > 0:\n",
        "      pilha.pop()\n",
        "    else:\n",
        "      pilha.append(')')\n",
        "      break\n",
        "if len(pilha) == 0:\n",
        "  print('Sua expressão está válida!')\n",
        "else:\n",
        "  print('Sua expressão está errada!')\n",
        "\n"
      ]
    },
    {
      "cell_type": "code",
      "execution_count": null,
      "metadata": {
        "id": "_0Roig2gV1gC"
      },
      "outputs": [],
      "source": [
        "#lista parte 2\n",
        "#aula 18\n",
        "\n",
        "\n",
        "pessoas = [['pedro', 25], ['maria', 19], ['joão', 32]]\n",
        "print(pessoas)\n",
        "print(pessoas[0][0])\n",
        "print(pessoas[1][1])\n",
        "print(pessoas[2][0])\n",
        "print(pessoas[1])\n",
        "\n"
      ]
    },
    {
      "cell_type": "code",
      "execution_count": null,
      "metadata": {
        "id": "OhwYruhlf8R_"
      },
      "outputs": [],
      "source": [
        "#lista parte 2\n",
        "#pratica\n",
        "\n",
        "teste = list()\n",
        "teste.append('Gustavo')\n",
        "teste.append(40)\n",
        "\n",
        "galera = list()\n",
        "galera.append(teste[:])\n",
        "\n",
        "teste[0] = 'maria'\n",
        "teste[1] = 22\n",
        "\n",
        "galera.append(teste[:])\n",
        "print(galera)\n"
      ]
    },
    {
      "cell_type": "code",
      "execution_count": null,
      "metadata": {
        "id": "V-TbrsurjUzV"
      },
      "outputs": [],
      "source": [
        "pessoas = [['pedro', 25], ['maria', 19], ['joão', 32]]\n",
        "for p in pessoas:\n",
        "  print('{} tem {} anos de idade'.format(p[0],p[1]))"
      ]
    },
    {
      "cell_type": "code",
      "execution_count": null,
      "metadata": {
        "id": "I1jgblx2x9eM"
      },
      "outputs": [],
      "source": [
        "galera = list()\n",
        "dado = list()\n",
        "\n",
        "for c in range(0,3):\n",
        "  dado.append(str(input('Nome: ')))\n",
        "  dado.append(int(input('idade: ')))\n",
        "  galera.append(dado[:])\n",
        "  dado.clear()\n",
        "print(galera)\n",
        "print(dado)"
      ]
    },
    {
      "cell_type": "code",
      "execution_count": null,
      "metadata": {
        "id": "EnZsiF2-zhhM"
      },
      "outputs": [],
      "source": [
        "galera = list()\n",
        "dado = list()\n",
        "maior = 0\n",
        "menor = 0\n",
        "\n",
        "for c in range(0,3):\n",
        "  dado.append(str(input('Nome: ')))\n",
        "  dado.append(int(input('idade: ')))\n",
        "  galera.append(dado[:])\n",
        "  dado.clear()\n",
        "\n",
        "\n",
        "for p in galera:\n",
        "  if p[1] >= 18:\n",
        "    maior += 1\n",
        "    print('Vc é de maior')\n",
        "    print(maior)\n",
        "  else:\n",
        "    menor += 1\n",
        "    print('Vc é de menor')\n",
        "    print(menor)\n",
        "  \n",
        "\n",
        "\n",
        "\n",
        "\n"
      ]
    },
    {
      "cell_type": "code",
      "execution_count": null,
      "metadata": {
        "id": "Qllci43E1EeD"
      },
      "outputs": [],
      "source": [
        "lista = list()\n",
        "lista.append(str(input('Digite seu nome: ')))\n",
        "lista.append(int(input('Digite seu idade: ')))\n",
        "\n",
        "print(lista)\n",
        "print(lista[0])"
      ]
    },
    {
      "cell_type": "code",
      "execution_count": null,
      "metadata": {
        "id": "aPeDFvs-Cbhd"
      },
      "outputs": [],
      "source": [
        "#84\n",
        "temp = []\n",
        "princ = []\n",
        "mai = men = 0\n",
        "contador = 0\n",
        "while True:\n",
        "  temp.append(str(input('Digite seu nome: ')))\n",
        "  temp.append(int(input('Digite seu peso: ')))\n",
        "  if len(princ) == 0:\n",
        "    mai = men = temp[1]\n",
        "  else:\n",
        "    if temp[1] > mai:\n",
        "      mai = temp[1]\n",
        "    if temp[1] <men:\n",
        "      men = temp[1]\n",
        "  princ.append(temp[:])\n",
        "  temp.clear()\n",
        "  n = input(str('Quer continuar [S/N]')).upper()\n",
        "  if n != 'S':\n",
        "    break\n",
        "print('#-'*50)\n",
        "print('Ao todo, você cadastrou {} pessoas'.format(len(princ)))\n",
        "print('O maior peso foi de {}'.format(mai), end=' ')\n",
        "for p in princ:\n",
        "  if p[1] == mai:\n",
        "    print('[{}]'.format(p[0]))\n",
        "print('Menor peso foi de {}'.format(men), end=' ')\n",
        "for p in princ:\n",
        "  if p[1] == men:\n",
        "    print('[{}]'.format(p[0]))\n",
        "\n",
        "\n",
        "  "
      ]
    },
    {
      "cell_type": "code",
      "execution_count": null,
      "metadata": {
        "id": "oAD54ajP0Xqd",
        "outputId": "a4e8fc04-2ef3-48c3-d712-2a3f7440e360",
        "colab": {
          "base_uri": "https://localhost:8080/",
          "height": 537
        }
      },
      "outputs": [
        {
          "output_type": "error",
          "ename": "KeyboardInterrupt",
          "evalue": "ignored",
          "traceback": [
            "\u001b[0;31m---------------------------------------------------------------------------\u001b[0m",
            "\u001b[0;31mKeyboardInterrupt\u001b[0m                         Traceback (most recent call last)",
            "\u001b[0;32m/usr/local/lib/python3.7/dist-packages/ipykernel/kernelbase.py\u001b[0m in \u001b[0;36m_input_request\u001b[0;34m(self, prompt, ident, parent, password)\u001b[0m\n\u001b[1;32m    728\u001b[0m             \u001b[0;32mtry\u001b[0m\u001b[0;34m:\u001b[0m\u001b[0;34m\u001b[0m\u001b[0;34m\u001b[0m\u001b[0m\n\u001b[0;32m--> 729\u001b[0;31m                 \u001b[0mident\u001b[0m\u001b[0;34m,\u001b[0m \u001b[0mreply\u001b[0m \u001b[0;34m=\u001b[0m \u001b[0mself\u001b[0m\u001b[0;34m.\u001b[0m\u001b[0msession\u001b[0m\u001b[0;34m.\u001b[0m\u001b[0mrecv\u001b[0m\u001b[0;34m(\u001b[0m\u001b[0mself\u001b[0m\u001b[0;34m.\u001b[0m\u001b[0mstdin_socket\u001b[0m\u001b[0;34m,\u001b[0m \u001b[0;36m0\u001b[0m\u001b[0;34m)\u001b[0m\u001b[0;34m\u001b[0m\u001b[0;34m\u001b[0m\u001b[0m\n\u001b[0m\u001b[1;32m    730\u001b[0m             \u001b[0;32mexcept\u001b[0m \u001b[0mException\u001b[0m\u001b[0;34m:\u001b[0m\u001b[0;34m\u001b[0m\u001b[0;34m\u001b[0m\u001b[0m\n",
            "\u001b[0;32m/usr/local/lib/python3.7/dist-packages/jupyter_client/session.py\u001b[0m in \u001b[0;36mrecv\u001b[0;34m(self, socket, mode, content, copy)\u001b[0m\n\u001b[1;32m    802\u001b[0m         \u001b[0;32mtry\u001b[0m\u001b[0;34m:\u001b[0m\u001b[0;34m\u001b[0m\u001b[0;34m\u001b[0m\u001b[0m\n\u001b[0;32m--> 803\u001b[0;31m             \u001b[0mmsg_list\u001b[0m \u001b[0;34m=\u001b[0m \u001b[0msocket\u001b[0m\u001b[0;34m.\u001b[0m\u001b[0mrecv_multipart\u001b[0m\u001b[0;34m(\u001b[0m\u001b[0mmode\u001b[0m\u001b[0;34m,\u001b[0m \u001b[0mcopy\u001b[0m\u001b[0;34m=\u001b[0m\u001b[0mcopy\u001b[0m\u001b[0;34m)\u001b[0m\u001b[0;34m\u001b[0m\u001b[0;34m\u001b[0m\u001b[0m\n\u001b[0m\u001b[1;32m    804\u001b[0m         \u001b[0;32mexcept\u001b[0m \u001b[0mzmq\u001b[0m\u001b[0;34m.\u001b[0m\u001b[0mZMQError\u001b[0m \u001b[0;32mas\u001b[0m \u001b[0me\u001b[0m\u001b[0;34m:\u001b[0m\u001b[0;34m\u001b[0m\u001b[0;34m\u001b[0m\u001b[0m\n",
            "\u001b[0;32m/usr/local/lib/python3.7/dist-packages/zmq/sugar/socket.py\u001b[0m in \u001b[0;36mrecv_multipart\u001b[0;34m(self, flags, copy, track)\u001b[0m\n\u001b[1;32m    726\u001b[0m         \"\"\"\n\u001b[0;32m--> 727\u001b[0;31m         \u001b[0mparts\u001b[0m \u001b[0;34m=\u001b[0m \u001b[0;34m[\u001b[0m\u001b[0mself\u001b[0m\u001b[0;34m.\u001b[0m\u001b[0mrecv\u001b[0m\u001b[0;34m(\u001b[0m\u001b[0mflags\u001b[0m\u001b[0;34m,\u001b[0m \u001b[0mcopy\u001b[0m\u001b[0;34m=\u001b[0m\u001b[0mcopy\u001b[0m\u001b[0;34m,\u001b[0m \u001b[0mtrack\u001b[0m\u001b[0;34m=\u001b[0m\u001b[0mtrack\u001b[0m\u001b[0;34m)\u001b[0m\u001b[0;34m]\u001b[0m\u001b[0;34m\u001b[0m\u001b[0;34m\u001b[0m\u001b[0m\n\u001b[0m\u001b[1;32m    728\u001b[0m         \u001b[0;31m# have first part already, only loop while more to receive\u001b[0m\u001b[0;34m\u001b[0m\u001b[0;34m\u001b[0m\u001b[0;34m\u001b[0m\u001b[0m\n",
            "\u001b[0;32mzmq/backend/cython/socket.pyx\u001b[0m in \u001b[0;36mzmq.backend.cython.socket.Socket.recv\u001b[0;34m()\u001b[0m\n",
            "\u001b[0;32mzmq/backend/cython/socket.pyx\u001b[0m in \u001b[0;36mzmq.backend.cython.socket.Socket.recv\u001b[0;34m()\u001b[0m\n",
            "\u001b[0;32mzmq/backend/cython/socket.pyx\u001b[0m in \u001b[0;36mzmq.backend.cython.socket._recv_copy\u001b[0;34m()\u001b[0m\n",
            "\u001b[0;32m/usr/local/lib/python3.7/dist-packages/zmq/backend/cython/checkrc.pxd\u001b[0m in \u001b[0;36mzmq.backend.cython.checkrc._check_rc\u001b[0;34m()\u001b[0m\n",
            "\u001b[0;31mKeyboardInterrupt\u001b[0m: ",
            "\nDuring handling of the above exception, another exception occurred:\n",
            "\u001b[0;31mKeyboardInterrupt\u001b[0m                         Traceback (most recent call last)",
            "\u001b[0;32m<ipython-input-1-aa7c595d08e6>\u001b[0m in \u001b[0;36m<module>\u001b[0;34m()\u001b[0m\n\u001b[1;32m      4\u001b[0m \u001b[0mvalor\u001b[0m \u001b[0;34m=\u001b[0m \u001b[0;36m0\u001b[0m\u001b[0;34m\u001b[0m\u001b[0;34m\u001b[0m\u001b[0m\n\u001b[1;32m      5\u001b[0m \u001b[0;32mfor\u001b[0m \u001b[0mc\u001b[0m \u001b[0;32min\u001b[0m \u001b[0mrange\u001b[0m\u001b[0;34m(\u001b[0m\u001b[0;36m1\u001b[0m\u001b[0;34m,\u001b[0m\u001b[0;36m6\u001b[0m\u001b[0;34m)\u001b[0m\u001b[0;34m:\u001b[0m\u001b[0;34m\u001b[0m\u001b[0;34m\u001b[0m\u001b[0m\n\u001b[0;32m----> 6\u001b[0;31m   \u001b[0mvalor\u001b[0m \u001b[0;34m=\u001b[0m \u001b[0mint\u001b[0m\u001b[0;34m(\u001b[0m\u001b[0minput\u001b[0m\u001b[0;34m(\u001b[0m\u001b[0;34m'Digite o {}° valor'\u001b[0m\u001b[0;34m.\u001b[0m\u001b[0mformat\u001b[0m\u001b[0;34m(\u001b[0m\u001b[0mc\u001b[0m\u001b[0;34m)\u001b[0m\u001b[0;34m)\u001b[0m\u001b[0;34m)\u001b[0m\u001b[0;34m\u001b[0m\u001b[0;34m\u001b[0m\u001b[0m\n\u001b[0m\u001b[1;32m      7\u001b[0m   \u001b[0;32mif\u001b[0m \u001b[0mvalor\u001b[0m \u001b[0;34m%\u001b[0m \u001b[0;36m2\u001b[0m \u001b[0;34m==\u001b[0m \u001b[0;36m0\u001b[0m\u001b[0;34m:\u001b[0m\u001b[0;34m\u001b[0m\u001b[0;34m\u001b[0m\u001b[0m\n\u001b[1;32m      8\u001b[0m     \u001b[0mlista\u001b[0m\u001b[0;34m[\u001b[0m\u001b[0;36m0\u001b[0m\u001b[0;34m]\u001b[0m\u001b[0;34m.\u001b[0m\u001b[0mappend\u001b[0m\u001b[0;34m(\u001b[0m\u001b[0mvalor\u001b[0m\u001b[0;34m)\u001b[0m\u001b[0;34m\u001b[0m\u001b[0;34m\u001b[0m\u001b[0m\n",
            "\u001b[0;32m/usr/local/lib/python3.7/dist-packages/ipykernel/kernelbase.py\u001b[0m in \u001b[0;36mraw_input\u001b[0;34m(self, prompt)\u001b[0m\n\u001b[1;32m    702\u001b[0m             \u001b[0mself\u001b[0m\u001b[0;34m.\u001b[0m\u001b[0m_parent_ident\u001b[0m\u001b[0;34m,\u001b[0m\u001b[0;34m\u001b[0m\u001b[0;34m\u001b[0m\u001b[0m\n\u001b[1;32m    703\u001b[0m             \u001b[0mself\u001b[0m\u001b[0;34m.\u001b[0m\u001b[0m_parent_header\u001b[0m\u001b[0;34m,\u001b[0m\u001b[0;34m\u001b[0m\u001b[0;34m\u001b[0m\u001b[0m\n\u001b[0;32m--> 704\u001b[0;31m             \u001b[0mpassword\u001b[0m\u001b[0;34m=\u001b[0m\u001b[0;32mFalse\u001b[0m\u001b[0;34m,\u001b[0m\u001b[0;34m\u001b[0m\u001b[0;34m\u001b[0m\u001b[0m\n\u001b[0m\u001b[1;32m    705\u001b[0m         )\n\u001b[1;32m    706\u001b[0m \u001b[0;34m\u001b[0m\u001b[0m\n",
            "\u001b[0;32m/usr/local/lib/python3.7/dist-packages/ipykernel/kernelbase.py\u001b[0m in \u001b[0;36m_input_request\u001b[0;34m(self, prompt, ident, parent, password)\u001b[0m\n\u001b[1;32m    732\u001b[0m             \u001b[0;32mexcept\u001b[0m \u001b[0mKeyboardInterrupt\u001b[0m\u001b[0;34m:\u001b[0m\u001b[0;34m\u001b[0m\u001b[0;34m\u001b[0m\u001b[0m\n\u001b[1;32m    733\u001b[0m                 \u001b[0;31m# re-raise KeyboardInterrupt, to truncate traceback\u001b[0m\u001b[0;34m\u001b[0m\u001b[0;34m\u001b[0m\u001b[0;34m\u001b[0m\u001b[0m\n\u001b[0;32m--> 734\u001b[0;31m                 \u001b[0;32mraise\u001b[0m \u001b[0mKeyboardInterrupt\u001b[0m\u001b[0;34m\u001b[0m\u001b[0;34m\u001b[0m\u001b[0m\n\u001b[0m\u001b[1;32m    735\u001b[0m             \u001b[0;32melse\u001b[0m\u001b[0;34m:\u001b[0m\u001b[0;34m\u001b[0m\u001b[0;34m\u001b[0m\u001b[0m\n\u001b[1;32m    736\u001b[0m                 \u001b[0;32mbreak\u001b[0m\u001b[0;34m\u001b[0m\u001b[0;34m\u001b[0m\u001b[0m\n",
            "\u001b[0;31mKeyboardInterrupt\u001b[0m: "
          ]
        }
      ],
      "source": [
        "#85\n",
        "\n",
        "lista = [[], []]\n",
        "valor = 0\n",
        "for c in range(1,6):\n",
        "  valor = int(input('Digite o {}° valor'.format(c)))\n",
        "  if valor % 2 == 0:\n",
        "    lista[0].append(valor)\n",
        "  else:\n",
        "    lista[1].append(valor)\n",
        "\n",
        "lista[0].sort()\n",
        "lista[1].sort()\n",
        "print(lista[0])\n",
        "print(lista[1])\n",
        "\n",
        "\n",
        "  \n"
      ]
    },
    {
      "cell_type": "code",
      "execution_count": null,
      "metadata": {
        "colab": {
          "base_uri": "https://localhost:8080/"
        },
        "id": "aGhkd9oCSo8b",
        "outputId": "dbb76f1a-39e1-4295-d53c-337b30b22e92"
      },
      "outputs": [
        {
          "name": "stdout",
          "output_type": "stream",
          "text": [
            "Digite um valor para 0, 010\n",
            "Digite um valor para 0, 1100\n",
            "Digite um valor para 0, 25555\n",
            "Digite um valor para 1, 01\n",
            "Digite um valor para 1, 12\n",
            "Digite um valor para 1, 210\n",
            "Digite um valor para 2, 0565\n",
            "Digite um valor para 2, 11\n",
            "Digite um valor para 2, 21\n",
            "-=-=-=-=-=-=-=-=-=-=-=-=-=-=-=-=-=-=-=-=-=-=-=-=-=-=-=-=-=-=-=-=-=-=-=-=-=-=-=-=-=-=-=-=-=-=-=-=-=-=\n",
            "[ 10  ][ 100 ][5555 ]\n",
            "[  1  ][  2  ][ 10  ]\n",
            "[ 565 ][  1  ][  1  ]\n"
          ]
        }
      ],
      "source": [
        "#86\n",
        "matriz = [[0,0,0], [0,0,0], [0,0,0]]\n",
        "for l in range(0,3):\n",
        "  for c in range(0, 3):\n",
        "    matriz[l][c] = int(input('Digite um valor para {}, {} : '.format(l,c)))\n",
        "print('-='*50)\n",
        "for l in range(0,3):\n",
        "  for c in range(0,3):\n",
        "    print(f'[{matriz[l][c]:^5}]', end='' )\n",
        "  print()\n",
        "\n",
        "\n",
        "\n"
      ]
    },
    {
      "cell_type": "code",
      "execution_count": null,
      "metadata": {
        "id": "ScLmrBlmTBLz"
      },
      "outputs": [],
      "source": [
        "#87\n"
      ]
    },
    {
      "cell_type": "code",
      "execution_count": null,
      "metadata": {
        "id": "fgjDtmzSdPxi"
      },
      "outputs": [],
      "source": [
        "#88\n"
      ]
    },
    {
      "cell_type": "code",
      "execution_count": null,
      "metadata": {
        "id": "_9l4dOfPdSwJ"
      },
      "outputs": [],
      "source": [
        "#89"
      ]
    },
    {
      "cell_type": "code",
      "execution_count": null,
      "metadata": {
        "id": "Xrv4XiW5dVBU"
      },
      "outputs": [],
      "source": [
        "#aula19\n",
        "dados = dict()\n",
        "dados = {'nome':'pedro','idade':25}\n",
        "print(dados['nome'])\n",
        "print(dados['idade'])\n",
        "dados=['sexo']='M'\n",
        "del dados['idade']"
      ]
    },
    {
      "cell_type": "code",
      "execution_count": null,
      "metadata": {
        "colab": {
          "base_uri": "https://localhost:8080/"
        },
        "id": "AOPStmyydmPv",
        "outputId": "6bba7f92-422a-4599-a263-41df3a96cc13"
      },
      "outputs": [
        {
          "name": "stdout",
          "output_type": "stream",
          "text": [
            "dict_keys(['Titulo', 'Ano', 'Diretor'])\n",
            "dict_values(['Star Wars', 1977, 'George Lucas'])\n",
            "dict_items([('Titulo', 'Star Wars'), ('Ano', 1977), ('Diretor', 'George Lucas')])\n",
            "#-##-##-##-##-##-##-##-##-##-##-##-##-##-##-##-##-##-##-##-##-##-##-##-##-##-##-##-##-##-##-##-##-##-##-##-##-##-##-##-##-##-##-##-##-##-##-##-##-##-#\n",
            "O Titulo é Star Wars\n",
            "O Ano é 1977\n",
            "O Diretor é George Lucas\n",
            "#-##-##-##-##-##-##-##-##-##-##-##-##-##-##-##-##-##-##-##-##-##-##-##-##-##-##-##-##-##-##-##-##-##-##-##-##-##-##-##-##-##-##-##-##-##-##-##-##-##-#\n"
          ]
        }
      ],
      "source": [
        "#aula19\n",
        "filme = {'Titulo':'Star Wars',\n",
        "        'Ano':1977,\n",
        "        'Diretor':'George Lucas'\n",
        "}\n",
        "print(filme.keys())\n",
        "print(filme.values())\n",
        "print(filme.items())\n",
        "\n",
        "print('#-#'*50)\n",
        "for K, V in filme.items():\n",
        "  print('O {} é {}'.format(K,V))\n",
        "print('#-#'*50)"
      ]
    },
    {
      "cell_type": "code",
      "execution_count": null,
      "metadata": {
        "id": "OqZP9aCVe7ZI"
      },
      "outputs": [],
      "source": [
        "estado = dict()\n",
        "brasil = list()\n",
        "for c in range(0,3):\n",
        "  estado['uf'] = str(input('Unidade Federativa'))\n",
        "  estado['sigla'] = str(input('Sigla do Estado'))\n",
        "print(estado.items())"
      ]
    },
    {
      "cell_type": "code",
      "execution_count": null,
      "metadata": {
        "id": "s4yJBu6Em_wr"
      },
      "outputs": [],
      "source": [
        "#90\n",
        "dic = {}\n",
        "dic['nome'] = str(input('Digite seu nome: '))\n",
        "dic['media'] = float(input('Digite sua media: '))\n",
        "print('-'*50)\n",
        "\n",
        "\n",
        "print('- Nome do aluno é igual a {}'.format(dic['nome']))\n",
        "print('- Média é igual a {}'.format(dic['media']))\n",
        "if dic['media'] >= 7  and dic['media'] <=10:\n",
        "  print('- situação é igual a APROVADO!!!')\n",
        "if dic['media'] <7 and dic['media'] >=5:\n",
        "  print('- situação é igual a RECUPERAÇÃO!!!')\n",
        "if dic['media'] <5:\n",
        "  print('- situação é igual a REPROVADO!!!')\n",
        "else:\n",
        "  print('- situação é igual a ERRO!!!')\n",
        "\n",
        "print('-'*50)\n"
      ]
    },
    {
      "cell_type": "code",
      "execution_count": null,
      "metadata": {
        "id": "fbPXJPZKXTfC"
      },
      "outputs": [],
      "source": [
        "#90.1\n",
        "dic = {}\n",
        "dic['nome'] = str(input('Digite seu nome: '))\n",
        "dic['media'] = float(input('media de : '.format(dic[\"nome\"])))\n",
        "print('-'*50)\n",
        "\n",
        "if dic['media'] >= 7  and dic['media'] <=10:\n",
        "  dic['situação'] = 'aprovado'\n",
        "if dic['media'] <7 and dic['media'] >=5:\n",
        "  dic['situação'] = 'recuperação'\n",
        "if dic['media'] <5:\n",
        "  dic['situação'] = 'reprovado'\n",
        "if dic['media'] >10:     \n",
        "  dic['situação'] = 'ERRO' \n",
        "\n",
        "for k, v in dic.items():\n",
        "  print('- {} é igual a {}'.format(k,v))\n",
        "print('-'*50)"
      ]
    },
    {
      "cell_type": "code",
      "execution_count": null,
      "metadata": {
        "id": "i5UOiUtV8DM8"
      },
      "outputs": [],
      "source": [
        "#91\n",
        "from random import randint\n",
        "from time import sleep\n",
        "from operator import itemgetter \n",
        "jogo = {'jogador1':randint(1,6),\n",
        "         'jogador2':randint(1,6),\n",
        "         'jogador3':randint(1,6),\n",
        "         'jogador4':randint(1,6),\n",
        "         'jogador5':randint(1,6),\n",
        "         'jogador6':randint(1,6)}\n",
        "ranking = list()\n",
        "print('Valores sorteados: ')\n",
        "for k, v in jogo.items():\n",
        "  print('{} tirou {} no dado.'.format(k,v))\n",
        "  sleep(1)\n",
        "ranking = sorted(jogo.items(), key=itemgetter(1), reverse=True)\n",
        "print('-='*30)\n",
        "print(' == RANKING DOS JOGARES ==')\n",
        "for i, v in enumerate(ranking):\n",
        "  print('{}° lugar: {} com {}.'.format(i,v[0],v[1] ))\n",
        "\n",
        "  "
      ]
    },
    {
      "cell_type": "code",
      "execution_count": null,
      "metadata": {
        "id": "xWe-nQunz7Bn"
      },
      "outputs": [],
      "source": [
        "#92\n",
        "from datetime import datetime\n",
        "dados = {}\n",
        "print('-'*50)\n",
        "dados['nome'] = str(input('Digite seu nome: '))\n",
        "nasc = int(input('Digite seu ano de nascimento: '))\n",
        "dados['idade'] = datetime.now().year - nasc\n",
        "dados['ctps'] = int(input('Digite sua carteira de trabalho (0 não tem): '))\n",
        "if dados['ctps'] != 0:\n",
        "  dados['contratação']=int(input('Digite ano de contratação: '))\n",
        "  dados['salario'] = float(input('Digite seu salario: '))\n",
        "  dados['aposentadoria'] = dados['idade'] + ((dados['contratação'] + 35) - datetime.now().year)\n",
        "for k, v in dados.items():\n",
        "  print('- {} é {}'.format(k, v)) \n",
        "print('_'*50)\n",
        "\n",
        "  \n"
      ]
    },
    {
      "cell_type": "code",
      "execution_count": null,
      "metadata": {
        "id": "MZW7V3cBGKbx"
      },
      "outputs": [],
      "source": [
        "#93\n",
        "jogador = dict()\n",
        "partidas = list()\n",
        "jogador['nome'] = str(input('Nome do jogador: '))\n",
        "tot = int(input('Quantas partidas {} jogou: '.format(jogador['nome'])))\n",
        "for c in range(0, tot):\n",
        "  partidas.append(int(input('Quantos gols na partida {}'.format(c))))\n",
        "jogador['gols'] = partidas[:]\n",
        "jogador['total'] = sum(partidas)\n",
        "print('-='*50)\n",
        "print(jogador)\n",
        "print('-='*50)\n",
        "for k , v in jogador.items():\n",
        "  print('O campo {} tem o valor {}'.format(k,v))\n",
        "print('-='*30)\n",
        "print('O jogador {} jogou {} partidas.'.format(jogador['nome'],len(jogador['gols'])))\n",
        "for i, v in enumerate(jogador['gols']):\n",
        "  print('=> Na partida {}, fez {} gols.'.format(i,v))\n",
        "print('foi um total de {} gols.'.format(jogador['total']))"
      ]
    },
    {
      "cell_type": "code",
      "execution_count": null,
      "metadata": {
        "id": "yhVeAotrtEsB",
        "outputId": "62a5c85d-a162-40e5-ec83-4546617a90f1",
        "colab": {
          "base_uri": "https://localhost:8080/"
        }
      },
      "outputs": [
        {
          "output_type": "stream",
          "name": "stdout",
          "text": [
            "Nome: rafael\n",
            "SEXO: [M/F]m\n",
            "Idade: 20\n",
            "quer continuar? [S/N]n\n",
            "-=-=-=-=-=-=-=-=-=-=-=-=-=-=-=-=-=-=-=-=-=-=-=-=-=-=-=-=-=-=\n",
            "A)ao todo temos  1 pessoas cadastradas\n",
            "B)A media de idade é de 20.00 anos.\n",
            "C)As mulheres cadastradas foram\n",
            "D) lista das pessoas que estão acima da media: \n",
            "\n",
            "nome = rafael;sexo = M;idade = 20;\n",
            "<< ENCERRADO >>\n"
          ]
        },
        {
          "output_type": "execute_result",
          "data": {
            "text/plain": [
              "list"
            ]
          },
          "metadata": {},
          "execution_count": 7
        }
      ],
      "source": [
        "#94  \n",
        "galera = list()\n",
        "pessoa = dict()\n",
        "soma = media = 0\n",
        "while True:\n",
        "  pessoa.clear()\n",
        "  pessoa['nome'] = str(input('Nome: '))\n",
        "  while True:\n",
        "    pessoa['sexo'] = str(input('SEXO: [M/F]')).upper()[0]\n",
        "    if pessoa['sexo'] in 'MF':\n",
        "      break\n",
        "    print('ERRO! por favor, digite apenas M ou F.')\n",
        "  pessoa['idade'] = int(input('Idade: '))\n",
        "  soma += pessoa['idade']\n",
        "  galera.append(pessoa.copy())\n",
        "  while True:\n",
        "    resp = str(input('quer continuar? [S/N]')).upper()[0]\n",
        "    if resp in 'SN':\n",
        "      break\n",
        "    print('Erro! Responda apenas S ou N.')\n",
        "  if resp == 'N':\n",
        "      break\n",
        "print('-='*30)\n",
        "print('A)ao todo temos  {} pessoas cadastradas'.format(len(galera)))\n",
        "media = soma / len(galera)\n",
        "print('B)A media de idade é de {:5.2f} anos.'.format(media))\n",
        "print('C)As mulheres cadastradas foram', end='')\n",
        "for p in galera:\n",
        "  if p['sexo'] in 'Ff':\n",
        "    print('{}'.format(p[\"nome\"]),end='')\n",
        "print()\n",
        "print('D) lista das pessoas que estão acima da media: ' )\n",
        "for p in galera:\n",
        "  if p['idade'] >= media:\n",
        "    print('',end='')\n",
        "    print('')\n",
        "    for k, v in p.items():\n",
        "      print('{} = {};'.format(k,v), end='')\n",
        "    print()\n",
        "print('<< ENCERRADO >>')\n",
        "\n",
        "galera\n",
        "type(galera)\n"
      ]
    },
    {
      "cell_type": "code",
      "execution_count": null,
      "metadata": {
        "colab": {
          "base_uri": "https://localhost:8080/"
        },
        "id": "uDuTD_BKusr5",
        "outputId": "332e64c3-c4cf-4f48-c5ea-fa8515c61153"
      },
      "outputs": [
        {
          "name": "stdout",
          "output_type": "stream",
          "text": [
            "------------------------------\n",
            "Curso em Video\n",
            "------------------------------\n"
          ]
        }
      ],
      "source": [
        "def lin():\n",
        "  print('-'*30)\n",
        "\n",
        "\n",
        "lin()\n",
        "print('Curso em Video')\n",
        "lin()"
      ]
    },
    {
      "cell_type": "code",
      "execution_count": null,
      "metadata": {
        "id": "ELkEDsvZUyVf",
        "colab": {
          "base_uri": "https://localhost:8080/"
        },
        "outputId": "1041564a-8e54-4851-c8ef-4cb43011f021"
      },
      "outputs": [
        {
          "output_type": "stream",
          "name": "stdout",
          "text": [
            "------------------------------\n",
            "Cusrso em Video\n",
            "------------------------------\n",
            "------------------------------\n",
            "Python é muito bom\n",
            "------------------------------\n",
            "------------------------------\n",
            "oi\n",
            "------------------------------\n"
          ]
        }
      ],
      "source": [
        "def titulo(txt):\n",
        "  print('-'*30)\n",
        "  print(txt)\n",
        "  print('-'*30)\n",
        "\n",
        "\n",
        "titulo('Cusrso em Video')\n",
        "titulo('Python é muito bom')\n",
        "titulo('oi')"
      ]
    },
    {
      "cell_type": "code",
      "execution_count": null,
      "metadata": {
        "colab": {
          "base_uri": "https://localhost:8080/"
        },
        "id": "kBHBS3loVPHk",
        "outputId": "959378ec-67a0-4a50-8c41-3d32523ee1fa"
      },
      "outputs": [
        {
          "output_type": "stream",
          "name": "stdout",
          "text": [
            "9\n",
            "17\n",
            "3\n"
          ]
        }
      ],
      "source": [
        "def soma (a,b):\n",
        "  s = a + b\n",
        "  print(s)\n",
        "\n",
        "\n",
        "soma(4, 5)\n",
        "soma(8, 9)\n",
        "soma(2, 1)"
      ]
    },
    {
      "cell_type": "code",
      "execution_count": null,
      "metadata": {
        "id": "5SUiCco3Vkup"
      },
      "outputs": [],
      "source": [
        "def SOMA(a, b, c):\n",
        "  print('A= {} e B={} e C={}' .format(a,b,c))\n",
        "  s = a + b + c\n",
        "  print('A soma A+B+C = {}'.format(s))\n",
        "\n",
        "\n",
        "SOMA(4,5,6)"
      ]
    },
    {
      "cell_type": "code",
      "execution_count": null,
      "metadata": {
        "colab": {
          "base_uri": "https://localhost:8080/"
        },
        "id": "UR708Uu2V786",
        "outputId": "2ced3e4a-efb5-4ef1-e053-022763277dda"
      },
      "outputs": [
        {
          "name": "stdout",
          "output_type": "stream",
          "text": [
            "(2, 1, 7)\n",
            "(8, 0)\n",
            "(4, 4, 7, 6, 2)\n"
          ]
        }
      ],
      "source": [
        "def contador (*num):\n",
        "  print(num)\n",
        "\n",
        "\n",
        "contador(2, 1, 7)\n",
        "contador(8,0)\n",
        "contador(4, 4, 7, 6, 2)\n"
      ]
    },
    {
      "cell_type": "code",
      "execution_count": null,
      "metadata": {
        "id": "8O5hOuT7UfsR",
        "colab": {
          "base_uri": "https://localhost:8080/"
        },
        "outputId": "e315236b-8335-473b-c5c7-c7d161360848"
      },
      "outputs": [
        {
          "output_type": "stream",
          "name": "stdout",
          "text": [
            "1\n",
            "2\n",
            "3\n",
            "4\n",
            "5\n",
            "6\n",
            "[12, 6, 18, 2, 0, 4]\n"
          ]
        }
      ],
      "source": [
        "def dobra(lst):\n",
        "  pos = 0\n",
        "  while pos < len(lst):\n",
        "    lst[pos] *= 2\n",
        "    pos += 1\n",
        "    \n",
        "\n",
        "\n",
        "valores = [6, 3, 9, 1, 0, 2]\n",
        "dobra(valores)\n",
        "print(valores)\n"
      ]
    },
    {
      "cell_type": "code",
      "execution_count": null,
      "metadata": {
        "id": "m5eFDH-pPoA5",
        "colab": {
          "base_uri": "https://localhost:8080/"
        },
        "outputId": "c8149dcb-344d-4a0d-af13-74694e341d32"
      },
      "outputs": [
        {
          "output_type": "stream",
          "name": "stdout",
          "text": [
            "controle de terrenos\n",
            "------------------------------\n",
            "Digite LARGURA (m): 10\n",
            "Dgite COMPRIMENTO (m): 5\n",
            "A área de um terreno 10.0x5.0 é de 50.0m²\n"
          ]
        }
      ],
      "source": [
        "#desafio 96\n",
        "def area(a,b):\n",
        "  dimensão = a*b\n",
        "  print('A área de um terreno {}x{} é de {}m²'.format(a,b,dimensão))\n",
        "\n",
        "\n",
        "print('controle de terrenos')\n",
        "print('-'*30)\n",
        " \n",
        "comprimento = float(input('Digite LARGURA (m): '))\n",
        "largura = float(input('Dgite COMPRIMENTO (m): '))\n",
        "area(comprimento, largura)"
      ]
    },
    {
      "cell_type": "code",
      "execution_count": null,
      "metadata": {
        "id": "VkT1CmKrjGdc",
        "colab": {
          "base_uri": "https://localhost:8080/"
        },
        "outputId": "c2161223-86f3-4fb4-d0ae-1e097b83da9b"
      },
      "outputs": [
        {
          "output_type": "stream",
          "name": "stdout",
          "text": [
            "-----------------------\n",
            "Rafael Duria Renfundini\n",
            "-----------------------\n",
            "--------------------------\n",
            "Curso de Python no Youtube\n",
            "--------------------------\n",
            "---\n",
            "ceV\n",
            "---\n"
          ]
        }
      ],
      "source": [
        " #desafio 97\n",
        "def escreva(msg):\n",
        "    print('-'*len(msg))\n",
        "    print(msg)\n",
        "    print('-'*len(msg))\n",
        "\n",
        "\n",
        "escreva('Rafael Duria Renfundini')\n",
        "escreva('Curso de Python no Youtube')\n",
        "escreva('ceV')\n"
      ]
    },
    {
      "cell_type": "code",
      "execution_count": null,
      "metadata": {
        "id": "6dU_YK7n6lWc",
        "colab": {
          "base_uri": "https://localhost:8080/"
        },
        "outputId": "9b64c80d-5380-493a-8060-36f76aac0517"
      },
      "outputs": [
        {
          "name": "stdout",
          "output_type": "stream",
          "text": [
            "------------------------------\n",
            "Contagem de 1 até 10 de 1 em 1\n",
            "1 2 3 4 5 6 7 8 9 10 FIM!\n",
            "----------------------------------------\n",
            "Contagem de 10 até 0 de 2 em 2\n",
            "10 8 6 4 2 0 FIM!\n",
            "--------------------------------------------------\n",
            "Agora é a sua vez de personalizar a contagem!\n",
            "Inicio: 2\n",
            "Fim: 98\n",
            "Passo: 4\n"
          ]
        }
      ],
      "source": [
        "from time import sleep\n",
        "\n",
        "\n",
        "def texto():\n",
        "  print('-'*30)\n",
        "  print('Contagem de 1 até 10 de 1 em 1')\n",
        "  for c in range (1,10+1,1):\n",
        "    print(c,end=' ')\n",
        "    sleep(0.5)\n",
        "  print('FIM!')\n",
        "  print('-'*40)\n",
        "  sleep(0.5)\n",
        "  print('Contagem de 10 até 0 de 2 em 2')\n",
        "  sleep(0.5)\n",
        "  for v in range(10,0-2,-2):\n",
        "    print(v,end=' ')\n",
        "    sleep(0.5)\n",
        "  print('FIM!')\n",
        "  print('-'*50)\n",
        "  print('Agora é a sua vez de personalizar a contagem!')\n",
        "  i=int(input('Inicio: '))\n",
        "  f=int(input('Fim: '))\n",
        "  p=int(input('Passo: '))\n",
        "\n",
        "\n",
        "\n",
        "\n",
        "texto()\n",
        "\n"
      ]
    },
    {
      "cell_type": "code",
      "execution_count": null,
      "metadata": {
        "id": "dArK7EkwYA86",
        "colab": {
          "base_uri": "https://localhost:8080/"
        },
        "outputId": "d1ea1965-4326-48ad-ddc5-47ae076e3e4d"
      },
      "outputs": [
        {
          "output_type": "stream",
          "name": "stdout",
          "text": [
            "--------------------------------------------------\n",
            "Agora é a sua vez de personalizar a contagem!\n",
            "Inicio: 1\n",
            "Fim: 1000\n",
            "Passo: 10\n",
            "1 11 21 31 41 51 61 71 81 91 101 111 121 131 141 151 161 171 181 191 201 211 221 231 241 251 261 271 281 291 301 311 321 331 341 351 361 371 381 391 401 411 421 431 441 451 461 471 481 491 501 511 521 531 541 551 561 571 581 591 601 611 621 631 641 651 661 671 681 691 701 711 721 731 741 751 761 771 781 791 801 811 821 831 841 851 861 871 881 891 901 911 921 931 941 951 961 971 981 991 1001 FIM!\n"
          ]
        }
      ],
      "source": [
        "#desafio98\n",
        "from time import sleep\n",
        "def texto():\n",
        "  print('-'*50)\n",
        "  print('Agora é a sua vez de personalizar a contagem!')\n",
        "  i=int(input('Inicio: '))\n",
        "  f=int(input('Fim: '))\n",
        "  p=int(input('Passo: '))\n",
        "  \n",
        "\n",
        "  if p<=0:\n",
        "    p = 1\n",
        "\n",
        "  if f>i and p>0:\n",
        "    for t in range(i, f+p, p):\n",
        "      print(t,end=' ')\n",
        "      sleep(0.2)\n",
        "    print('FIM!')\n",
        "\n",
        "  if f<i:\n",
        "    p = -p\n",
        "    for t in range(i, f+p, p):\n",
        "      print(t,end=' ')\n",
        "      sleep(0.2)\n",
        "    print('FIM!')  \n",
        "\n",
        "texto()"
      ]
    },
    {
      "cell_type": "code",
      "execution_count": null,
      "metadata": {
        "id": "7YEAlQ4Azjx5"
      },
      "outputs": [],
      "source": [
        "#desafio99\n",
        "from random import randint\n",
        "\n",
        "a = randint(0,999)\n",
        "b = randint(0,999)\n",
        "c = randint(0,999)\n",
        "d = randint(0,999)\n",
        "e = randint(0,999)\n",
        "f = randint(0,999)\n",
        "g = randint(0,999)\n",
        "h = randint(0,999)\n",
        "print(a)\n",
        "\n",
        "def valores(*val):\n",
        "  maior = 0\n",
        "  print('Analisando os valores passados....')\n",
        "  for c in val:\n",
        "    if c > maior:\n",
        "      maior = c\n",
        "\n",
        "\n",
        "    print(c,end=' ')\n",
        "  print('Foram informados {} valores ao todo.'.format(len(val)))\n",
        "  print('Maior valor informado foi {}.'.format(maior))\n",
        "\n",
        "\n",
        "valores(a,b,c,d,e,f,g,h)\n"
      ]
    },
    {
      "cell_type": "code",
      "execution_count": null,
      "metadata": {
        "id": "lMmbCBIdNKxi",
        "colab": {
          "base_uri": "https://localhost:8080/"
        },
        "outputId": "5b9cb416-986d-431e-e8d2-6b29ab6622a9"
      },
      "outputs": [
        {
          "output_type": "stream",
          "name": "stdout",
          "text": [
            "sorteando 5 valores da lista:  7 9 3 10 4 fim!\n",
            "Soma dos pares é 0\n",
            "Soma dos pares é 0\n",
            "Soma dos pares é 0\n",
            "Soma dos pares é 10\n",
            "Soma dos pares é 14\n"
          ]
        }
      ],
      "source": [
        "#100\n",
        "from random import randint\n",
        "from time import sleep\n",
        "\n",
        "def sorteia(lista):\n",
        "  print('sorteando 5 valores da lista: ',end=' ')\n",
        "  for c in range(0,5):\n",
        "    n = randint(1,11)\n",
        "    lista.append(n)\n",
        "    print(n,end=' ')\n",
        "    sleep(0.3)\n",
        "  print('fim!')\n",
        "    \n",
        "def somapar(lista):\n",
        "  soma = 0\n",
        "  cont = 0\n",
        "  for c in lista:\n",
        "    if c % 2 ==0:\n",
        "      soma += c\n",
        "    print('Soma dos pares é {}'.format(soma))\n",
        "\n",
        "\n",
        "\n",
        "\n",
        "valores = list()\n",
        "sorteia(valores)\n",
        "somapar(valores)\n",
        "  "
      ]
    },
    {
      "cell_type": "code",
      "execution_count": null,
      "metadata": {
        "id": "jyMXc-YMWbNW"
      },
      "outputs": [],
      "source": [
        "#DOCSTRINGS\n",
        "\n",
        "def contador (i, f, p):\n",
        "  \"\"\"\n",
        "  Faz um contagem e mostra na tela.\n",
        "  :parametro i: inicio da contagem\n",
        "  :parametro f: fim da contagem\n",
        "  :parametro p: passo da contagem\n",
        "  :retorno: sem retorno\n",
        "  \n",
        "  \"\"\"\n",
        "\n",
        "  c = i\n",
        "  while c <= f:\n",
        "    print('{}',end=' '.format(c))\n",
        "    c +=p\n",
        "  print('FIM!')\n",
        "\n",
        "help(contador)\n",
        "  \"\"\"\n",
        "  Faz a soma de três valores e mostra o resultado na tela.\n",
        "  :parametro a: primeiro valor\n",
        "  :paramentro b: segundo valor\n",
        "  :paramentro c: terceiro valor\n",
        "  \"\"\""
      ]
    },
    {
      "cell_type": "code",
      "execution_count": null,
      "metadata": {
        "id": "xr16MAat7XzQ",
        "colab": {
          "base_uri": "https://localhost:8080/"
        },
        "outputId": "90ab8eb4-3b27-4b2e-e453-8caedd29d167"
      },
      "outputs": [
        {
          "output_type": "stream",
          "name": "stdout",
          "text": [
            "A soma é 10\n",
            "A soma é 9\n",
            "A soma é 0\n"
          ]
        }
      ],
      "source": [
        "#PARAMETROS OPCIONAIS\n",
        "\n",
        "def somar(a=0, b=0 , c=0):\n",
        "  \"\"\"\n",
        "  Faz a soma de três valores e mostra o resultado na tela.\n",
        "  :parametro a: primeiro valor\n",
        "  :paramentro b: segundo valor\n",
        "  :paramentro c: terceiro valor\n",
        "  \"\"\"\n",
        "\n",
        "  s = a +  b + c\n",
        "  print('A soma é {}'.format(s))\n",
        "\n",
        "somar(1,6,3)\n",
        "somar(6,3)\n",
        "somar()\n"
      ]
    },
    {
      "cell_type": "code",
      "source": [
        "n = int(input('Digite  valor'))\n",
        "if  n != int:\n",
        "  int(input('Digite um valor inteiro'))\n"
      ],
      "metadata": {
        "colab": {
          "base_uri": "https://localhost:8080/",
          "height": 218
        },
        "id": "fHBOqB8xhWgT",
        "outputId": "8334d3f6-9468-4988-ab57-c06c07501634"
      },
      "execution_count": null,
      "outputs": [
        {
          "name": "stdout",
          "output_type": "stream",
          "text": [
            "Digite  valor10.9\n"
          ]
        },
        {
          "output_type": "error",
          "ename": "ValueError",
          "evalue": "ignored",
          "traceback": [
            "\u001b[0;31m---------------------------------------------------------------------------\u001b[0m",
            "\u001b[0;31mValueError\u001b[0m                                Traceback (most recent call last)",
            "\u001b[0;32m<ipython-input-7-a3c0218a816f>\u001b[0m in \u001b[0;36m<module>\u001b[0;34m()\u001b[0m\n\u001b[0;32m----> 1\u001b[0;31m \u001b[0mn\u001b[0m \u001b[0;34m=\u001b[0m \u001b[0mint\u001b[0m\u001b[0;34m(\u001b[0m\u001b[0minput\u001b[0m\u001b[0;34m(\u001b[0m\u001b[0;34m'Digite  valor'\u001b[0m\u001b[0;34m)\u001b[0m\u001b[0;34m)\u001b[0m\u001b[0;34m\u001b[0m\u001b[0;34m\u001b[0m\u001b[0m\n\u001b[0m\u001b[1;32m      2\u001b[0m \u001b[0;32mif\u001b[0m  \u001b[0mn\u001b[0m \u001b[0;34m!=\u001b[0m \u001b[0mint\u001b[0m\u001b[0;34m:\u001b[0m\u001b[0;34m\u001b[0m\u001b[0;34m\u001b[0m\u001b[0m\n\u001b[1;32m      3\u001b[0m   \u001b[0mint\u001b[0m\u001b[0;34m(\u001b[0m\u001b[0minput\u001b[0m\u001b[0;34m(\u001b[0m\u001b[0;34m'Digite um valor inteiro'\u001b[0m\u001b[0;34m)\u001b[0m\u001b[0;34m)\u001b[0m\u001b[0;34m\u001b[0m\u001b[0;34m\u001b[0m\u001b[0m\n",
            "\u001b[0;31mValueError\u001b[0m: invalid literal for int() with base 10: '10.9'"
          ]
        }
      ]
    },
    {
      "cell_type": "code",
      "execution_count": null,
      "metadata": {
        "colab": {
          "base_uri": "https://localhost:8080/"
        },
        "id": "RVk5MEbtDyD0",
        "outputId": "1cf5213f-20d8-45ed-f3f6-d1b14a7ea511"
      },
      "outputs": [
        {
          "name": "stdout",
          "output_type": "stream",
          "text": [
            "A dentro vale8 \n",
            "B dentro vale9 \n",
            "C dentro vale2 \n",
            "--------------------------------------------------\n",
            "A fora vale 8\n"
          ]
        }
      ],
      "source": [
        "#global\n",
        "#local\n",
        "def teste (b):\n",
        "  global a\n",
        "  a = 8\n",
        "  b += 4\n",
        "  c = 2\n",
        "  print('A dentro vale{} '.format(a))\n",
        "  print('B dentro vale{} '.format(b))\n",
        "  print('C dentro vale{} '.format(c))\n",
        "  print('-'*50) \n",
        "\n",
        "\n",
        "a = 5\n",
        "teste(a)\n",
        "print('A fora vale {}'.format(a))\n",
        "\n"
      ]
    },
    {
      "cell_type": "code",
      "execution_count": null,
      "metadata": {
        "colab": {
          "base_uri": "https://localhost:8080/"
        },
        "id": "c2AOSJ-OJ0T-",
        "outputId": "ced2dc39-cc33-474b-e91e-197a32c8f119"
      },
      "outputs": [
        {
          "name": "stdout",
          "output_type": "stream",
          "text": [
            "Meus calculos deram 10, 4 e 6\n"
          ]
        }
      ],
      "source": [
        "#return\n",
        "def somar(a=0, b=0, d=0):\n",
        "  somavalores = a + b + d\n",
        "  return somavalores\n",
        "\n",
        "\n",
        "r1 = somar(3, 2, 5)\n",
        "r2 = somar(2, 2)\n",
        "r3 = somar(6)\n",
        "\n",
        "print('Meus calculos deram {}, {} e {}'.format(r1,r2,r3))"
      ]
    },
    {
      "cell_type": "code",
      "execution_count": null,
      "metadata": {
        "colab": {
          "base_uri": "https://localhost:8080/"
        },
        "id": "51c1Rgnw7-ND",
        "outputId": "4d571ddc-379f-44db-8a4e-c355d6815338"
      },
      "outputs": [
        {
          "name": "stdout",
          "output_type": "stream",
          "text": [
            "Digite um numero:5\n",
            "O fatorial de 5 é igual a 120\n"
          ]
        }
      ],
      "source": [
        "#return\n",
        "def fatorial (num=1):\n",
        "  f = 1\n",
        "  for c in range(num, 0, -1):\n",
        "    f *=c\n",
        "  return f\n",
        "\n",
        "n = int(input('Digite um numero:'))\n",
        "print('O fatorial de {} é igual a {}'.format(n,fatorial(n))) \n",
        "\n"
      ]
    },
    {
      "cell_type": "code",
      "execution_count": null,
      "metadata": {
        "colab": {
          "base_uri": "https://localhost:8080/"
        },
        "id": "FG-4REs8hZdS",
        "outputId": "a81aeffa-a339-4909-c204-6f4c74036782"
      },
      "outputs": [
        {
          "name": "stdout",
          "output_type": "stream",
          "text": [
            "Os resultados são 120, 24 e 1 \n"
          ]
        }
      ],
      "source": [
        "#return\n",
        "def fatorial(num=1):\n",
        "  f = 1\n",
        "  for c in range(num,0,-1):\n",
        "    f*=c\n",
        "  return f\n",
        "\n",
        "\n",
        "f1 = fatorial (5)\n",
        "f2 = fatorial (4)\n",
        "f3 = fatorial ()\n",
        "\n",
        "print('Os resultados são {}, {} e {} '.format(f1, f2, f3))\n"
      ]
    },
    {
      "cell_type": "code",
      "execution_count": null,
      "metadata": {
        "colab": {
          "base_uri": "https://localhost:8080/"
        },
        "id": "bznJ25ywvHVq",
        "outputId": "1c1a7651-8437-4799-9c9a-36c07219ec0e"
      },
      "outputs": [
        {
          "name": "stdout",
          "output_type": "stream",
          "text": [
            "Digite um numero: 10\n",
            "True\n"
          ]
        }
      ],
      "source": [
        "#return\n",
        "def par(n=0):\n",
        "  if n % 2 ==0:\n",
        "    return True\n",
        "  else:\n",
        "    return False\n",
        "\n",
        "\n",
        "num = int(input('Digite um numero: '))\n",
        "print(par(num))\n",
        "\n"
      ]
    },
    {
      "cell_type": "code",
      "execution_count": null,
      "metadata": {
        "colab": {
          "base_uri": "https://localhost:8080/"
        },
        "id": "Q1DimgWSv515",
        "outputId": "a9f2e312-a350-449a-df03-d653ce9e4ea9"
      },
      "outputs": [
        {
          "name": "stdout",
          "output_type": "stream",
          "text": [
            "Digite um numero: 8\n",
            "É par!\n"
          ]
        }
      ],
      "source": [
        "#return\n",
        "def par(n=0):\n",
        "  if n % 2 ==0:\n",
        "    return True\n",
        "  else:\n",
        "    return False\n",
        "\n",
        "\n",
        "num = int(input('Digite um numero: '))\n",
        "if par(num):\n",
        "  print('É par!')\n",
        "else:\n",
        "  print('Não é par!')\n"
      ]
    },
    {
      "cell_type": "code",
      "execution_count": null,
      "metadata": {
        "colab": {
          "base_uri": "https://localhost:8080/"
        },
        "id": "t3EQEYWJwQVV",
        "outputId": "af9c08ab-3f3c-4d3a-daa5-c82a0ecb3d50"
      },
      "outputs": [
        {
          "output_type": "stream",
          "name": "stdout",
          "text": [
            "Que ano vc nasceu? 1992\n",
            "Com 30 anos: OBRIGATORIO.\n"
          ]
        }
      ],
      "source": [
        "#desafio 101\n",
        "\"\"\"\n",
        "Crie um programa que tenha um FUNÇÃO chamada VOTO() \n",
        "que vai receber como paramentro o ano de nascimento de uma pessoa\n",
        "Retornando um valor literal indicando se uma pessoa tem voto\n",
        "Negado\n",
        "Opcional\n",
        "Obrigatório \n",
        "\"\"\"\n",
        "\n",
        "\n",
        "def voto(ano):\n",
        "  from datetime import date\n",
        "  atual = date.today().year\n",
        "  idade = atual - ano\n",
        "  \n",
        "  if idade < 16:\n",
        "    return f'Com {idade} anos: NÃO VOTA.'\n",
        "    \n",
        "  elif 16 <= idade < 18 or idade >65:\n",
        "    return f'Com {idade} anos: OPCIONAL.'\n",
        "\n",
        "  else:\n",
        "    return f'Com {idade} anos: OBRIGATORIO.' \n",
        "\n",
        "\n",
        "nasc = int(input('Que ano vc nasceu? '))\n",
        "print(voto(nasc))\n"
      ]
    },
    {
      "cell_type": "code",
      "execution_count": null,
      "metadata": {
        "colab": {
          "base_uri": "https://localhost:8080/"
        },
        "id": "hirNtulYKbbX",
        "outputId": "e8e23ebb-e1be-4ff5-ed48-dbd5cbc0a6cd"
      },
      "outputs": [
        {
          "name": "stdout",
          "output_type": "stream",
          "text": [
            "5 x 4 x 3 x 2 x 1 = 120\n"
          ]
        }
      ],
      "source": [
        "#desafio102\n",
        "def fatorial(n, show=False):\n",
        "\n",
        "  f = 1\n",
        "\n",
        "  for c in range(n, 0, -1):\n",
        "    if show:\n",
        "      print(c, end='')\n",
        "      if c >1:\n",
        "        print(' x ', end='')\n",
        "      else:\n",
        "        print(' = ', end='')\n",
        "    f *= c\n",
        "  return f\n",
        "\n",
        "print(fatorial(5, show=True))\n"
      ]
    },
    {
      "cell_type": "code",
      "execution_count": null,
      "metadata": {
        "colab": {
          "base_uri": "https://localhost:8080/"
        },
        "id": "OQ9i_YGNS4yV",
        "outputId": "ba6120cc-e37c-4389-b7c6-e23bbf79f5b6"
      },
      "outputs": [
        {
          "name": "stdout",
          "output_type": "stream",
          "text": [
            "Digite um numero: 10\n",
            "10 x 1 = 10\n",
            "10 x 2 = 20\n",
            "10 x 3 = 30\n",
            "10 x 4 = 40\n",
            "10 x 5 = 50\n",
            "10 x 6 = 60\n",
            "10 x 7 = 70\n",
            "10 x 8 = 80\n",
            "10 x 9 = 90\n",
            "10 x 10 = 100\n"
          ]
        }
      ],
      "source": [
        "#desafio 102 autoria\n",
        "def mult(n,show=False):\n",
        "  for c in range(1,10+1,1):\n",
        "    if show == True:\n",
        "      print(f'{n} x {c} = {n*c}')\n",
        "    else:\n",
        "      print(f'{n*c}')\n",
        "\n",
        "\n",
        "oie = int(input('Digite um numero: '))\n",
        "mult(oie,show=True)\n"
      ]
    },
    {
      "cell_type": "code",
      "execution_count": null,
      "metadata": {
        "colab": {
          "base_uri": "https://localhost:8080/"
        },
        "id": "xRJrN_vRYRzV",
        "outputId": "a1e3c174-9983-4aa3-ff43-37a2e5348862"
      },
      "outputs": [
        {
          "name": "stdout",
          "output_type": "stream",
          "text": [
            "------------------------------\n",
            "Nome do jogador:\n",
            "Número de Gols:5\n",
            "O jogador <desconhecido> fez 5 gols no campeonato\n"
          ]
        }
      ],
      "source": [
        "  #desafio103\n",
        "\n",
        "def ficha(jog='<desconhecido>', gol=0):\n",
        "  print(f'O jogador {jog} fez {gol} gols no campeonato')\n",
        "\n",
        "  \n",
        "print('-'*30)\n",
        "n = str(input('Nome do jogador:'))\n",
        "g = str(input('Número de Gols:'))\n",
        "if g.isnumeric():\n",
        "  g = int(g)\n",
        "else:\n",
        "  g = 0\n",
        "if n.strip() =='':\n",
        "  ficha(gol=g)\n",
        "else:\n",
        "  ficha(n,g)\n",
        "\n"
      ]
    },
    {
      "cell_type": "code",
      "execution_count": null,
      "metadata": {
        "colab": {
          "base_uri": "https://localhost:8080/"
        },
        "id": "Wpf9h7mUpEG6",
        "outputId": "a36cbd6c-8b8b-4b28-cffa-9ade0ba2d3d1"
      },
      "outputs": [
        {
          "name": "stdout",
          "output_type": "stream",
          "text": [
            "Digite um número: 4.4\n",
            "\u001b[0;31mERRO! Digite um número inteiro válido. \u001b[m\n",
            "Digite um número: 5\n",
            "você acabou de digitar o número 5\n"
          ]
        }
      ],
      "source": [
        "#desafio104\n",
        "\n",
        "def leiaint(msg):\n",
        "  ok = False\n",
        "  valor = 0\n",
        "  while True:\n",
        "    n = str(input(msg))\n",
        "    if n.isnumeric():\n",
        "      valor = int(n)\n",
        "      ok = True\n",
        "    else:\n",
        "      print('\\033[0;31mERRO! Digite um número inteiro válido. \\033[m')\n",
        "    if ok:\n",
        "      break\n",
        "  return valor\n",
        "\n",
        "n = leiaint('Digite um número: ')\n",
        "print(f'você acabou de digitar o número {n}')\n"
      ]
    },
    {
      "cell_type": "code",
      "execution_count": null,
      "metadata": {
        "colab": {
          "base_uri": "https://localhost:8080/"
        },
        "id": "pYge9CIbBOrg",
        "outputId": "5dd8283d-092c-4a04-c7bf-3ae9dd7bb046"
      },
      "outputs": [
        {
          "name": "stdout",
          "output_type": "stream",
          "text": [
            "{'total': 3, 'maior': 5.5, 'menor': 1.5, 'media': 3.1666666666666665, 'situação': 'RUIM'}\n"
          ]
        }
      ],
      "source": [
        "#desafio105\n",
        "\n",
        "def notas(*n, sit=False):\n",
        "  \"\"\"\n",
        "  -> Função para analisar notas e situações de vários alunos .\n",
        "  :param n: uma ou mais notas dos alunos (aceita várias)\n",
        "  :param sit: valor opcional, indicando se deve ou não adicionar a situação\n",
        "  :return: dicionário com várias informações sobre a situação da turma.\n",
        "\n",
        "  \"\"\"\n",
        "  r = dict()\n",
        "  r['total'] = len(n)\n",
        "  r['maior'] = max(n)\n",
        "  r['menor'] = min(n)\n",
        "  r['media'] = sum(n)/len(n)\n",
        "  if sit:\n",
        "    if r['media'] >= 7:\n",
        "      r['situação'] = 'BOA'\n",
        "\n",
        "    elif r['media'] >= 5:\n",
        "      r['situação'] = 'RAZOÁVEL'\n",
        "\n",
        "    else:\n",
        "      r['situação'] = 'RUIM'\n",
        "  return r\n",
        "\n",
        "\n",
        "resp = notas(5.5, 2.5, 1.5, sit=True)\n",
        "print(resp)\n",
        "#help(notas)\n",
        "\n"
      ]
    },
    {
      "cell_type": "code",
      "execution_count": null,
      "metadata": {
        "id": "dfy7CYrfTqIW",
        "outputId": "fa7013e2-ab59-4daa-f524-a42a20e674a7",
        "colab": {
          "base_uri": "https://localhost:8080/",
          "height": 374
        }
      },
      "outputs": [
        {
          "output_type": "error",
          "ename": "ModuleNotFoundError",
          "evalue": "ignored",
          "traceback": [
            "\u001b[0;31m---------------------------------------------------------------------------\u001b[0m",
            "\u001b[0;31mModuleNotFoundError\u001b[0m                       Traceback (most recent call last)",
            "\u001b[0;32m<ipython-input-1-5ef6c93335e5>\u001b[0m in \u001b[0;36m<module>\u001b[0;34m\u001b[0m\n\u001b[0;32m----> 1\u001b[0;31m \u001b[0;32mimport\u001b[0m \u001b[0mmoeda\u001b[0m\u001b[0;34m\u001b[0m\u001b[0;34m\u001b[0m\u001b[0m\n\u001b[0m\u001b[1;32m      2\u001b[0m \u001b[0;34m\u001b[0m\u001b[0m\n\u001b[1;32m      3\u001b[0m \u001b[0mp\u001b[0m \u001b[0;34m=\u001b[0m \u001b[0mfloat\u001b[0m\u001b[0;34m(\u001b[0m\u001b[0minput\u001b[0m\u001b[0;34m(\u001b[0m\u001b[0;34m'Digite o preço: $'\u001b[0m\u001b[0;34m)\u001b[0m\u001b[0;34m)\u001b[0m\u001b[0;34m\u001b[0m\u001b[0;34m\u001b[0m\u001b[0m\n\u001b[1;32m      4\u001b[0m \u001b[0mprint\u001b[0m\u001b[0;34m(\u001b[0m\u001b[0;34mf'A metade de {p} é {moeda.metade(p)}'\u001b[0m\u001b[0;34m)\u001b[0m\u001b[0;34m\u001b[0m\u001b[0;34m\u001b[0m\u001b[0m\n\u001b[1;32m      5\u001b[0m \u001b[0mprint\u001b[0m\u001b[0;34m(\u001b[0m\u001b[0;34mf'O dobro de {p} é {moeda.dobro(p)}'\u001b[0m\u001b[0;34m)\u001b[0m\u001b[0;34m\u001b[0m\u001b[0;34m\u001b[0m\u001b[0m\n",
            "\u001b[0;31mModuleNotFoundError\u001b[0m: No module named 'moeda'",
            "",
            "\u001b[0;31m---------------------------------------------------------------------------\u001b[0;32m\nNOTE: If your import is failing due to a missing package, you can\nmanually install dependencies using either !pip or !apt.\n\nTo view examples of installing some common dependencies, click the\n\"Open Examples\" button below.\n\u001b[0;31m---------------------------------------------------------------------------\u001b[0m\n"
          ],
          "errorDetails": {
            "actions": [
              {
                "action": "open_url",
                "actionText": "Open Examples",
                "url": "/notebooks/snippets/importing_libraries.ipynb"
              }
            ]
          }
        }
      ],
      "source": [
        "import moeda\n",
        "\n",
        "p = float(input('Digite o preço: $'))\n",
        "print(f'A metade de {p} é {moeda.metade(p)}')\n",
        "print(f'O dobro de {p} é {moeda.dobro(p)}')\n",
        "print(f'Aumentando 10%, temos {moeda.aumentar(p, 10)}')\n",
        "print(f'Reduzindo 13%, temos {moeda.diminuir(p, 13)}')"
      ]
    },
    {
      "cell_type": "code",
      "execution_count": null,
      "metadata": {
        "id": "xe_mGvmBgCQ-"
      },
      "outputs": [],
      "source": [
        "def aumentar(preço, taxa):\n",
        "    res = preço + (preço * taxa/100)\n",
        "    return res\n",
        "\n",
        "\n",
        "def diminui (preço, taxa):\n",
        "    res = preço - (preço * taxa/100)\n",
        "    return res\n",
        "\n",
        "\n",
        "def dobro(preço):\n",
        "    res = preço * 2\n",
        "    return res\n",
        "\n",
        "\n",
        "def metade(preço):\n",
        "    res = preço / 2\n",
        "    return res\n"
      ]
    },
    {
      "cell_type": "code",
      "execution_count": null,
      "metadata": {
        "colab": {
          "base_uri": "https://localhost:8080/"
        },
        "id": "zyJftz_5csR9",
        "outputId": "26875aaf-abd1-4d8f-e723-044f1cb5596e"
      },
      "outputs": [
        {
          "name": "stdout",
          "output_type": "stream",
          "text": [
            "6\n",
            "92\n"
          ]
        }
      ],
      "source": [
        "def soma (a,b):\n",
        "  return a + b\n",
        "\n",
        "def subtracao(a,b):\n",
        "  return a - b\n",
        "\n",
        "\n",
        "print(soma(4, 2))\n",
        "print(subtracao(100,8))\n"
      ]
    },
    {
      "cell_type": "code",
      "execution_count": null,
      "metadata": {
        "colab": {
          "base_uri": "https://localhost:8080/"
        },
        "id": "bBMlp47RUSGw",
        "outputId": "e046cbcd-2897-4b6a-8e8c-bc8302047900"
      },
      "outputs": [
        {
          "name": "stdout",
          "output_type": "stream",
          "text": [
            "12\n",
            "8\n"
          ]
        }
      ],
      "source": [
        "class Calculadora:\n",
        "  def __init__(self, num1, num2):\n",
        "    self.valor_a = num1\n",
        "    self.valor_b = num2\n",
        "\n",
        "\n",
        "  def soma (self):\n",
        "    return self.valor_a + self.valor_b\n",
        "\n",
        "  def subtracao(self):\n",
        "    return self.valor_a - self.valor_b\n",
        "\n",
        "\n",
        "calculadora = Calculadora(10,2)\n",
        "\n",
        "print(calculadora.soma())\n",
        "print(calculadora.subtracao())\n",
        "\n"
      ]
    },
    {
      "cell_type": "code",
      "execution_count": null,
      "metadata": {
        "colab": {
          "base_uri": "https://localhost:8080/"
        },
        "id": "SyGBpnZHAbxE",
        "outputId": "ee56bf48-a3d7-499c-afa0-131c267a2920"
      },
      "outputs": [
        {
          "name": "stdout",
          "output_type": "stream",
          "text": [
            "12\n",
            "8\n"
          ]
        }
      ],
      "source": [
        "def soma (valor_a, valor_b):\n",
        "  return valor_a + valor_b\n",
        "\n",
        "def subtracao(valor_a, valor_b):\n",
        "  return valor_a - valor_b\n",
        "\n",
        "\n",
        "calculadora = Calculadora(10,2)\n",
        "print(calculadora.soma())\n",
        "print(calculadora.subtracao())\n",
        "\n"
      ]
    },
    {
      "cell_type": "code",
      "execution_count": null,
      "metadata": {
        "colab": {
          "base_uri": "https://localhost:8080/"
        },
        "id": "V1tWtUPzC48-",
        "outputId": "22739d0d-4ef0-47ab-eafd-c1b11505c209"
      },
      "outputs": [
        {
          "name": "stdout",
          "output_type": "stream",
          "text": [
            "televisão está DESLIGADA\n",
            "vc quer ligar a televisão?S\n",
            "televisão está LIGADA\n"
          ]
        }
      ],
      "source": [
        "class Televisao:\n",
        "  def __init__(self):\n",
        "    self.ligada = False\n",
        "  \n",
        "  def power(self):\n",
        "    if self.ligada:\n",
        "      self.ligada = False\n",
        "    else:\n",
        "      self.ligada = True\n",
        "\n",
        "televisao = Televisao() \n",
        "\n",
        "if televisao.ligada == True:\n",
        "  print('televisão está LIGADA')\n",
        "else:\n",
        "  print('televisão está DESLIGADA')\n",
        "\n",
        "n = str(input('vc quer ligar a televisão?'))\n",
        "\n",
        "if n == 'S':\n",
        "  televisao.power()\n",
        "\n",
        "print('televisão está LIGADA')\n",
        "\n",
        "\n",
        "\n",
        "\n"
      ]
    },
    {
      "cell_type": "code",
      "execution_count": null,
      "metadata": {
        "colab": {
          "base_uri": "https://localhost:8080/"
        },
        "id": "VQ6rdh29CEJf",
        "outputId": "2e952364-746c-4747-d22d-6d581bd9e0fd"
      },
      "outputs": [
        {
          "output_type": "stream",
          "name": "stdout",
          "text": [
            "Erro desconhecido\n",
            "sempre executa\n"
          ]
        }
      ],
      "source": [
        "lista = [1, 10]\n",
        "\n",
        "\n",
        "try:\n",
        "  divisão = 10/0\n",
        "except BaseException as ex:\n",
        "  print('Erro desconhecido')\n",
        "finally:\n",
        "  print('sempre executa')\n"
      ]
    },
    {
      "cell_type": "code",
      "execution_count": null,
      "metadata": {
        "colab": {
          "base_uri": "https://localhost:8080/"
        },
        "id": "X_VnjFpU_iQQ",
        "outputId": "f9fd1059-e83e-441f-cc8b-79f7c9d84e50"
      },
      "outputs": [
        {
          "output_type": "stream",
          "name": "stdout",
          "text": [
            "Entre com uma nota de 0 a 10 : 11\n",
            "11\n",
            "Nota não pode ser maior que 10\n",
            "Entre com uma nota de 0 a 10 : 0\n",
            "0\n"
          ]
        }
      ],
      "source": [
        "\n",
        "class Error (Exception):\n",
        "  pass\n",
        "\n",
        "\n",
        "class InputError(Error):\n",
        "  def __init__(self, message):\n",
        "    self.message = message\n",
        "\n",
        "while True:\n",
        "  try:\n",
        "    x = int(input('Entre com uma nota de 0 a 10 : '))\n",
        "    print(x)\n",
        "    if x > 10:\n",
        "      raise InputError('Nota não pode ser maior que 10')\n",
        "    elif x < 0:\n",
        "      raise InputError('Nota não pode ser menor que 0')\n",
        "    break \n",
        "  except ValueError:\n",
        "    print('Valor inválido. Deve-se digitar apenas números.')\n",
        "  except InputError as ex:\n",
        "    print(ex)\n",
        "\n"
      ]
    },
    {
      "cell_type": "code",
      "source": [],
      "metadata": {
        "id": "PESEwsEG9yJl"
      },
      "execution_count": null,
      "outputs": []
    },
    {
      "cell_type": "code",
      "source": [
        "media = 7\n",
        "numeroProvas = 3\n",
        "\n",
        "#Avalie as seguintes afirmativas:\n",
        "#I - A média do aluno poderia ser obtida por (nota1 + nota2 + nota3) / numeroProvas\n",
        "#II - O aluno é aprovado se passar na condição if mediaAluno >= media\n",
        "#III - Se nota1, por exemplo, for igual a 1, o aluno já iria reprovar automaticamente.\n",
        "#IV - Se nota1, por exemplo, for igual a 0, o aluno já iria reprovar automaticamente.\n",
        "\n",
        "\n"
      ],
      "metadata": {
        "id": "pwlaS87DT1xY",
        "colab": {
          "base_uri": "https://localhost:8080/"
        },
        "outputId": "c0ac3fb0-edef-4d05-913f-aacd4a93ca8a"
      },
      "execution_count": null,
      "outputs": [
        {
          "output_type": "stream",
          "name": "stdout",
          "text": [
            "15\n"
          ]
        }
      ]
    }
  ],
  "metadata": {
    "colab": {
      "provenance": []
    },
    "kernelspec": {
      "display_name": "Python 3",
      "name": "python3"
    },
    "language_info": {
      "name": "python"
    }
  },
  "nbformat": 4,
  "nbformat_minor": 0
}